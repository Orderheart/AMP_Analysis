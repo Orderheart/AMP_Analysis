{
 "cells": [
  {
   "cell_type": "code",
   "execution_count": 22,
   "id": "db31c09f",
   "metadata": {
    "ExecuteTime": {
     "end_time": "2024-03-24T14:20:14.216513Z",
     "start_time": "2024-03-24T14:20:14.196443Z"
    }
   },
   "outputs": [],
   "source": [
    "import pandas as pd\n",
    "from sklearn.linear_model import LinearRegression\n",
    "from sklearn.model_selection import train_test_split\n",
    "from sklearn.metrics import mean_squared_error, mean_absolute_error, r2_score\n",
    "import matplotlib.pyplot as plt\n",
    "import numpy as np\n",
    "from sklearn.preprocessing import StandardScaler\n",
    "import seaborn as sns\n",
    "import matplotlib.pyplot as plt"
   ]
  },
  {
   "cell_type": "code",
   "execution_count": 23,
   "id": "37000dc0",
   "metadata": {
    "ExecuteTime": {
     "end_time": "2024-03-24T14:20:14.815618Z",
     "start_time": "2024-03-24T14:20:14.719095Z"
    }
   },
   "outputs": [],
   "source": [
    "# 假设importance.csv包含Feature列和Importance列\n",
    "csv_file1_path = \"C:/Users/Lenovo/Desktop/new_study/CNS/output/XGBoost_importance.csv\"\n",
    "csv_file2_path = \"C:/Users/Lenovo/Desktop/new_study/CNS/data/ASP.csv\"\n",
    "\n",
    "# 读取Features CSV文件\n",
    "features_df = pd.read_csv(csv_file1_path)\n",
    "# 读取训练集和Label的CSV文件\n",
    "training_data_df = pd.read_csv(csv_file2_path)"
   ]
  },
  {
   "cell_type": "code",
   "execution_count": 24,
   "id": "55352267",
   "metadata": {
    "ExecuteTime": {
     "end_time": "2024-03-24T14:20:15.158268Z",
     "start_time": "2024-03-24T14:20:15.121185Z"
    }
   },
   "outputs": [
    {
     "name": "stdout",
     "output_type": "stream",
     "text": [
      "                     Feature  Importance\n",
      "0          _NormalizedVDWVC3    0.183809\n",
      "1                         LI    0.114753\n",
      "2              charge of all    0.083309\n",
      "3            negative_charge    0.063642\n",
      "4                         VV    0.057507\n",
      "5                         KV    0.041703\n",
      "6                         LC    0.040330\n",
      "7                _PolarityC3    0.033620\n",
      "8                         NR    0.031391\n",
      "9                _PolarityC2    0.028959\n",
      "10      _NormalizedVDWVD1100    0.023444\n",
      "11                _ChargeT23    0.021982\n",
      "12                        AT    0.020903\n",
      "13                        KG    0.019230\n",
      "14                        QF    0.016669\n",
      "15            unpolar_number    0.015251\n",
      "16              _ChargeD3100    0.014562\n",
      "17                        IK    0.014114\n",
      "18                        HH    0.013910\n",
      "19              _ChargeD3075    0.013209\n",
      "20  _SolventAccessibilityT23    0.011879\n",
      "21                        GG    0.011841\n",
      "22                        LF    0.010707\n",
      "23                        LK    0.010194\n",
      "24      _PolarizabilityD1100    0.009833\n",
      "25                        VL    0.009200\n",
      "26                         D    0.009122\n",
      "27                         R    0.008568\n",
      "28                        GA    0.008011\n",
      "29                         C    0.006824\n",
      "30        _SecondaryStrD2075    0.006303\n",
      "31                        RP    0.006178\n",
      "32                        IL    0.005622\n"
     ]
    }
   ],
   "source": [
    "print(features_df)"
   ]
  },
  {
   "cell_type": "code",
   "execution_count": 25,
   "id": "4fafaf79",
   "metadata": {
    "ExecuteTime": {
     "end_time": "2024-03-24T14:20:15.477708Z",
     "start_time": "2024-03-24T14:20:15.456241Z"
    }
   },
   "outputs": [
    {
     "name": "stdout",
     "output_type": "stream",
     "text": [
      "                                  SEQUENCE       A       R       N       D  \\\n",
      "0                              IKQLLHFFQRF   0.000   9.091   0.000   0.000   \n",
      "1                     RLLRRLLRRLLRRLLRRLLR   0.000  50.000   0.000   0.000   \n",
      "2                  GIGKFLHSAKKFGKAFVGEIMNS   8.696   0.000   4.348   0.000   \n",
      "3                              LKRFLKWFKRF   0.000  18.182   0.000   0.000   \n",
      "4                              KLFKRWKHLFR   0.000  18.182   0.000   0.000   \n",
      "...                                    ...     ...     ...     ...     ...   \n",
      "1195         AVEFLLDQSIADSPLAKKVEFLESKGLTQ  10.345   0.000   0.000   6.897   \n",
      "1196           GQTSISKGLNYLTIMAPGNLWHMRNNF   3.704   3.704  14.815   0.000   \n",
      "1197    WGYSKHNGPENWHKDFPIANGDRQSPVDIDTATA   8.824   2.941   8.824  11.765   \n",
      "1198        IELFNAFPSLLRHFPGSHNTIFKNMTEQRK   3.333   6.667  10.000   0.000   \n",
      "1199  RLGLLLSVLAATLAQAPAPDVPGCSRGSCYPATGDL  16.667   5.556   0.000   5.556   \n",
      "\n",
      "          C       E       Q       G      H  ...  _PolarizabilityD2050  \\\n",
      "0     0.000   0.000  18.182   0.000  9.091  ...                27.273   \n",
      "1     0.000   0.000   0.000   0.000  0.000  ...                50.000   \n",
      "2     0.000   4.348   0.000  17.391  4.348  ...                73.913   \n",
      "3     0.000   0.000   0.000   0.000  0.000  ...                 9.091   \n",
      "4     0.000   0.000   0.000   0.000  9.091  ...                18.182   \n",
      "...     ...     ...     ...     ...    ...  ...                   ...   \n",
      "1195  0.000  10.345   6.897   3.448  0.000  ...                48.276   \n",
      "1196  0.000   0.000   3.704  11.111  3.704  ...                44.444   \n",
      "1197  0.000   2.941   2.941   8.824  5.882  ...                50.000   \n",
      "1198  0.000   6.667   3.333   3.333  6.667  ...                33.333   \n",
      "1199  5.556   0.000   2.778  11.111  0.000  ...                41.667   \n",
      "\n",
      "      _PolarizabilityD2075  _PolarizabilityD2100  _PolarizabilityD3001  \\\n",
      "0                   36.364                81.818                18.182   \n",
      "1                   70.000                95.000                 5.000   \n",
      "2                   82.609                95.652                17.391   \n",
      "3                    9.091                45.455                18.182   \n",
      "4                   18.182                81.818                 9.091   \n",
      "...                    ...                   ...                   ...   \n",
      "1195                68.966               100.000                13.793   \n",
      "1196                70.370                96.296                25.926   \n",
      "1197                70.588                85.294                 2.941   \n",
      "1198                63.333                93.333                13.333   \n",
      "1199                61.111               100.000                 2.778   \n",
      "\n",
      "      _PolarizabilityD3025  _PolarizabilityD3050  _PolarizabilityD3075  \\\n",
      "0                   18.182                63.636                72.727   \n",
      "1                   20.000                45.000                65.000   \n",
      "2                   21.739                43.478                52.174   \n",
      "3                   27.273                54.545                72.727   \n",
      "4                   27.273                45.455                63.636   \n",
      "...                    ...                   ...                   ...   \n",
      "1195                13.793                58.621                62.069   \n",
      "1196                40.741                77.778                85.185   \n",
      "1197                 8.824                17.647                38.235   \n",
      "1198                23.333                46.667                76.667   \n",
      "1199                83.333                 2.778                72.222   \n",
      "\n",
      "      _PolarizabilityD3100      MIC  LABEL  \n",
      "0                  100.000    24.00      1  \n",
      "1                  100.000    32.00      1  \n",
      "2                   91.304   128.00      1  \n",
      "3                  100.000     8.00      1  \n",
      "4                  100.000    31.25      1  \n",
      "...                    ...      ...    ...  \n",
      "1195                86.207  8192.00      0  \n",
      "1196               100.000  8192.00      0  \n",
      "1197                67.647  8192.00      0  \n",
      "1198               100.000  8192.00      0  \n",
      "1199                83.333  8192.00      0  \n",
      "\n",
      "[1200 rows x 579 columns]\n"
     ]
    }
   ],
   "source": [
    "print(training_data_df)"
   ]
  },
  {
   "cell_type": "code",
   "execution_count": 26,
   "id": "4766e09b",
   "metadata": {
    "ExecuteTime": {
     "end_time": "2024-03-24T14:20:15.772672Z",
     "start_time": "2024-03-24T14:20:15.747097Z"
    }
   },
   "outputs": [
    {
     "name": "stdout",
     "output_type": "stream",
     "text": [
      "['_NormalizedVDWVC3', 'LI', 'charge of all', 'negative_charge', 'VV', 'KV', 'LC', '_PolarityC3', 'NR', '_PolarityC2', '_NormalizedVDWVD1100', '_ChargeT23', 'AT', 'KG', 'QF', 'unpolar_number', '_ChargeD3100', 'IK', 'HH', '_ChargeD3075', '_SolventAccessibilityT23', 'GG']\n"
     ]
    }
   ],
   "source": [
    "# ascending=False，降序排列\n",
    "top_features = features_df.sort_values(by=\"Importance\", ascending=False).head(22)['Feature'].tolist()\n",
    "print(top_features)"
   ]
  },
  {
   "cell_type": "code",
   "execution_count": 27,
   "id": "1734efae",
   "metadata": {
    "ExecuteTime": {
     "end_time": "2024-03-24T14:20:16.076664Z",
     "start_time": "2024-03-24T14:20:16.037365Z"
    }
   },
   "outputs": [
    {
     "name": "stdout",
     "output_type": "stream",
     "text": [
      "      _NormalizedVDWVC3   LI  charge of all  negative_charge   VV    KV   LC  \\\n",
      "0                 0.545  0.0              3                0  0.0  0.00  0.0   \n",
      "1                 0.500  0.0             10                0  0.0  0.00  0.0   \n",
      "2                 0.391  0.0              4                1  0.0  0.00  0.0   \n",
      "3                 0.818  0.0              5                0  0.0  0.00  0.0   \n",
      "4                 0.818  0.0              6                0  0.0  0.00  0.0   \n",
      "...                 ...  ...            ...              ...  ...   ...  ...   \n",
      "1195              0.172  0.0             -2                5  0.0  3.57  0.0   \n",
      "1196              0.296  0.0              3                0  0.0  0.00  0.0   \n",
      "1197              0.265  0.0              0                5  0.0  0.00  0.0   \n",
      "1198              0.367  0.0              4                2  0.0  0.00  0.0   \n",
      "1199              0.083  0.0              0                2  0.0  0.00  0.0   \n",
      "\n",
      "      _PolarityC3   NR  _PolarityC2  ...    AT    KG   QF  unpolar_number  \\\n",
      "0           0.273  0.0        0.182  ...  0.00  0.00  0.0               6   \n",
      "1           0.500  0.0        0.000  ...  0.00  0.00  0.0              10   \n",
      "2           0.217  0.0        0.087  ...  0.00  0.00  0.0              14   \n",
      "3           0.455  0.0        0.000  ...  0.00  0.00  0.0               6   \n",
      "4           0.545  0.0        0.000  ...  0.00  0.00  0.0               5   \n",
      "...           ...  ...          ...  ...   ...   ...  ...             ...   \n",
      "1195        0.103  0.0        0.207  ...  0.00  3.57  0.0              15   \n",
      "1196        0.111  0.0        0.222  ...  0.00  3.85  0.0              14   \n",
      "1197        0.147  0.0        0.235  ...  3.03  0.00  0.0              15   \n",
      "1198        0.200  0.0        0.267  ...  0.00  0.00  0.0              14   \n",
      "1199        0.056  0.0        0.139  ...  5.71  0.00  0.0              23   \n",
      "\n",
      "      _ChargeD3100    IK   HH  _ChargeD3075  _SolventAccessibilityT23   GG  \n",
      "0            0.000  10.0  0.0         0.000                     0.000  0.0  \n",
      "1            0.000   0.0  0.0         0.000                     0.000  0.0  \n",
      "2           82.609   0.0  0.0        82.609                     0.091  0.0  \n",
      "3            0.000   0.0  0.0         0.000                     0.000  0.0  \n",
      "4            0.000   0.0  0.0         0.000                     0.100  0.0  \n",
      "...            ...   ...  ...           ...                       ...  ...  \n",
      "1195        79.310   0.0  0.0        41.379                     0.179  0.0  \n",
      "1196         0.000   0.0  0.0         0.000                     0.154  0.0  \n",
      "1197        88.235   0.0  0.0        64.706                     0.212  0.0  \n",
      "1198        90.000   0.0  0.0         6.667                     0.172  0.0  \n",
      "1199        97.222   0.0  0.0        55.556                     0.057  0.0  \n",
      "\n",
      "[1200 rows x 22 columns]\n"
     ]
    }
   ],
   "source": [
    "# 从原始数据集中获得前22的列\n",
    "selected_columns = training_data_df[top_features]\n",
    "print(selected_columns)"
   ]
  },
  {
   "cell_type": "code",
   "execution_count": 28,
   "id": "a012381e",
   "metadata": {
    "ExecuteTime": {
     "end_time": "2024-03-24T14:20:16.238963Z",
     "start_time": "2024-03-24T14:20:16.219117Z"
    }
   },
   "outputs": [
    {
     "name": "stdout",
     "output_type": "stream",
     "text": [
      "0         24.00\n",
      "1         32.00\n",
      "2        128.00\n",
      "3          8.00\n",
      "4         31.25\n",
      "         ...   \n",
      "1195    8192.00\n",
      "1196    8192.00\n",
      "1197    8192.00\n",
      "1198    8192.00\n",
      "1199    8192.00\n",
      "Name: MIC, Length: 1200, dtype: float64\n",
      "0       3.178054\n",
      "1       3.465736\n",
      "2       4.852030\n",
      "3       2.079442\n",
      "4       3.442019\n",
      "          ...   \n",
      "1195    9.010913\n",
      "1196    9.010913\n",
      "1197    9.010913\n",
      "1198    9.010913\n",
      "1199    9.010913\n",
      "Name: MIC, Length: 1200, dtype: float64\n"
     ]
    }
   ],
   "source": [
    "# 获取应变量标签\n",
    "y = training_data_df[\"MIC\"]\n",
    "print(y)\n",
    "y = np.log(y)\n",
    "print(y)\n",
    "# 初始化线性回归模型\n",
    "linear_regressor = LinearRegression()"
   ]
  },
  {
   "cell_type": "code",
   "execution_count": 29,
   "id": "03e0f1f4",
   "metadata": {
    "ExecuteTime": {
     "end_time": "2024-03-24T14:20:16.451849Z",
     "start_time": "2024-03-24T14:20:16.404574Z"
    }
   },
   "outputs": [
    {
     "name": "stdout",
     "output_type": "stream",
     "text": [
      "      _NormalizedVDWVC3   LI  charge of all  negative_charge   VV   KV    LC  \\\n",
      "867               0.231  0.0              2                0  0.0  0.0  8.33   \n",
      "741               0.235  0.0              0                4  2.0  0.0  0.00   \n",
      "467               0.129  0.0             -2                3  0.0  0.0  0.00   \n",
      "442               0.031  0.0            -10               10  0.0  0.0  0.00   \n",
      "610               0.083  0.0             -2                3  0.0  0.0  0.00   \n",
      "...                 ...  ...            ...              ...  ...  ...   ...   \n",
      "1033              0.385  0.0              3                1  0.0  0.0  0.00   \n",
      "763               0.300  0.0              3                0  0.0  0.0  0.00   \n",
      "835               0.357  0.0              1                2  0.0  0.0  0.00   \n",
      "559               0.294  0.0              1                2  0.0  0.0  0.00   \n",
      "684               0.341  2.5              5                1  0.0  0.0  0.00   \n",
      "\n",
      "      _PolarityC3   NR  _PolarityC2  ...   AT   KG   QF  unpolar_number  \\\n",
      "867         0.154  0.0        0.077  ...  0.0  0.0  0.0               8   \n",
      "741         0.078  0.0        0.333  ...  0.0  0.0  0.0              26   \n",
      "467         0.032  0.0        0.226  ...  0.0  0.0  0.0              19   \n",
      "442         0.000  0.0        0.688  ...  0.0  0.0  0.0              13   \n",
      "610         0.083  0.0        0.333  ...  0.0  0.0  0.0               5   \n",
      "...           ...  ...          ...  ...  ...  ...  ...             ...   \n",
      "1033        0.308  0.0        0.154  ...  0.0  0.0  0.0               6   \n",
      "763         0.150  0.0        0.100  ...  0.0  0.0  0.0              13   \n",
      "835         0.214  0.0        0.143  ...  0.0  0.0  0.0               5   \n",
      "559         0.176  0.0        0.118  ...  0.0  0.0  0.0               9   \n",
      "684         0.146  0.0        0.098  ...  0.0  0.0  0.0              25   \n",
      "\n",
      "      _ChargeD3100    IK   HH  _ChargeD3075  _SolventAccessibilityT23    GG  \n",
      "867          0.000  8.33  0.0         0.000                     0.000  8.33  \n",
      "741         60.784  0.00  0.0        58.824                     0.140  0.00  \n",
      "467         70.968  0.00  0.0        67.742                     0.033  0.00  \n",
      "442         96.875  0.00  0.0        78.125                     0.387  0.00  \n",
      "610         83.333  0.00  0.0        66.667                     0.091  0.00  \n",
      "...            ...   ...  ...           ...                       ...   ...  \n",
      "1033        61.538  0.00  0.0        61.538                     0.250  0.00  \n",
      "763          0.000  0.00  0.0         0.000                     0.158  0.00  \n",
      "835        100.000  0.00  0.0        85.714                     0.231  0.00  \n",
      "559         82.353  0.00  0.0        70.588                     0.312  0.00  \n",
      "684         90.244  0.00  0.0        90.244                     0.075  0.00  \n",
      "\n",
      "[960 rows x 22 columns]\n",
      "---------------------------------------------------------------------------\n",
      "[[-0.28214531 -0.2665568   0.01421663 ... -1.21994877 -1.40817647\n",
      "   3.52963354]\n",
      " [-0.2594783  -0.2665568  -0.54284315 ...  0.55531208  0.10328307\n",
      "  -0.32945691]\n",
      " [-0.86015421 -0.2665568  -1.09990292 ...  0.82445013 -1.05190387\n",
      "  -0.32945691]\n",
      " ...\n",
      " [ 0.43186567 -0.2665568  -0.26431326 ...  1.36683058  1.08573177\n",
      "  -0.32945691]\n",
      " [ 0.07486018 -0.2665568  -0.26431326 ...  0.91034011  1.96021907\n",
      "  -0.32945691]\n",
      " [ 0.34119761  1.39859932  0.84980629 ...  1.50354233 -0.598466\n",
      "  -0.32945691]]\n"
     ]
    }
   ],
   "source": [
    "# 划分数据集和测试集\n",
    "X_train, X_test, y_train, y_test = train_test_split(selected_columns, y, test_size=0.2, random_state=0)\n",
    "# 初始化标准化器\n",
    "scaler = StandardScaler()\n",
    "# 对每一列数据进行标准化\n",
    "X_train_standardized = scaler.fit_transform(X_train)\n",
    "X_test_standardized = scaler.transform(X_test)\n",
    "\n",
    "print(X_train)\n",
    "print('---------------------------------------------------------------------------')\n",
    "print(X_train_standardized)"
   ]
  },
  {
   "cell_type": "code",
   "execution_count": 30,
   "id": "3834be7d",
   "metadata": {
    "ExecuteTime": {
     "end_time": "2024-03-24T14:20:16.619604Z",
     "start_time": "2024-03-24T14:20:16.598622Z"
    }
   },
   "outputs": [],
   "source": [
    "# 拟合模型\n",
    "linear_regressor.fit(X_train_standardized, y_train)\n",
    "\n",
    "# 预测模型\n",
    "y_pred = linear_regressor.predict(X_test_standardized)"
   ]
  },
  {
   "cell_type": "code",
   "execution_count": 31,
   "id": "6c7f2281",
   "metadata": {
    "ExecuteTime": {
     "end_time": "2024-03-24T14:20:17.292100Z",
     "start_time": "2024-03-24T14:20:17.273383Z"
    }
   },
   "outputs": [
    {
     "name": "stdout",
     "output_type": "stream",
     "text": [
      "Mean Squared Error: 2.1889501788161585\n",
      "Mean Absolute Error: 1.097272576302071\n",
      "R-squared: 0.5807119261370278\n"
     ]
    }
   ],
   "source": [
    "# 计算回归分析的评估指标\n",
    "mse = mean_squared_error(y_test, y_pred)\n",
    "mae = mean_absolute_error(y_test, y_pred)\n",
    "r2 = r2_score(y_test, y_pred)\n",
    "\n",
    "# 打印结果\n",
    "print(f\"Mean Squared Error: {mse}\")\n",
    "print(f\"Mean Absolute Error: {mae}\")\n",
    "print(f\"R-squared: {r2}\")"
   ]
  },
  {
   "cell_type": "code",
   "execution_count": 32,
   "id": "1a9b7a3d",
   "metadata": {
    "ExecuteTime": {
     "end_time": "2024-03-24T14:20:17.564072Z",
     "start_time": "2024-03-24T14:20:17.546768Z"
    }
   },
   "outputs": [
    {
     "name": "stdout",
     "output_type": "stream",
     "text": [
      "_NormalizedVDWVC3: -0.5862503522526096\n",
      "LI: -0.02897794308936341\n",
      "charge of all: -0.5375929526911531\n",
      "negative_charge: -0.5243569191770658\n",
      "VV: -0.03863816266562228\n",
      "KV: -0.11525211526888324\n",
      "LC: 0.19581975672547028\n",
      "_PolarityC3: -0.1804141013939521\n",
      "NR: -0.04292100560418019\n",
      "_PolarityC2: 0.12201257192528517\n",
      "_NormalizedVDWVD1100: 0.31872722267418285\n",
      "_ChargeT23: 0.12163420166585895\n",
      "AT: 0.009856169863732028\n",
      "KG: -0.07637734205949426\n",
      "QF: -0.3073622521128345\n",
      "unpolar_number: 0.4158876442018398\n",
      "_ChargeD3100: 0.6710450918014953\n",
      "IK: -0.1754224749728817\n",
      "HH: -0.031032606594757962\n",
      "_ChargeD3075: -0.23694647987709547\n",
      "_SolventAccessibilityT23: 0.4405454064657871\n",
      "GG: -0.16491295870477157\n"
     ]
    }
   ],
   "source": [
    "# 获取特征系数\n",
    "coefficients = linear_regressor.coef_\n",
    "coefficients_df = pd.DataFrame({'Feature': top_features, 'Coefficient': coefficients})\n",
    "# 按照系数降序排列\n",
    "coefficients_df = coefficients_df.sort_values(by='Coefficient', ascending=False)\n",
    "# 打印每个特征的系数\n",
    "for feature, coef in zip(top_features, coefficients):\n",
    "    print(f\"{feature}: {coef}\")"
   ]
  },
  {
   "cell_type": "code",
   "execution_count": 33,
   "id": "3b1300c0",
   "metadata": {
    "ExecuteTime": {
     "end_time": "2024-03-24T14:20:17.810280Z",
     "start_time": "2024-03-24T14:20:17.787659Z"
    }
   },
   "outputs": [],
   "source": [
    "coefficients_df.to_csv(\"C:/Users/Lenovo/Desktop/new_study/CNS/output/XGBoost_regression_coefficients.csv\", index=False) #不将 DataFrame 的索引写入到 CSV 文件。"
   ]
  },
  {
   "cell_type": "code",
   "execution_count": 34,
   "id": "b9d65e74",
   "metadata": {
    "ExecuteTime": {
     "end_time": "2024-03-24T14:20:18.481326Z",
     "start_time": "2024-03-24T14:20:18.012332Z"
    }
   },
   "outputs": [
    {
     "name": "stderr",
     "output_type": "stream",
     "text": [
      "C:\\Users\\Lenovo\\AppData\\Local\\Temp\\ipykernel_28760\\2447835501.py:11: FutureWarning: \n",
      "\n",
      "Passing `palette` without assigning `hue` is deprecated and will be removed in v0.14.0. Assign the `y` variable to `hue` and set `legend=False` for the same effect.\n",
      "\n",
      "  sns.barplot(x='Coefficient', y='Feature', data=coefficients_df, palette=colors)\n"
     ]
    },
    {
     "data": {
      "image/png": "[encoded data removed]",
      "text/plain": [
       "<Figure size 1000x800 with 1 Axes>"
      ]
     },
     "metadata": {},
     "output_type": "display_data"
    }
   ],
   "source": [
    "# 按照Coefficient列排序，大的值在上面\n",
    "coefficients_df = coefficients_df.sort_values(by='Coefficient', ascending=False)\n",
    "\n",
    "# 设置图形大小\n",
    "plt.figure(figsize=(10, 8))\n",
    "\n",
    "# 为正负系数分配颜色\n",
    "colors = ['b' if coef > 0 else 'r' for coef in coefficients_df['Coefficient']]\n",
    "\n",
    "# 使用seaborn的barplot函数创建一个横向的柱状图，加入颜色映射\n",
    "sns.barplot(x='Coefficient', y='Feature', data=coefficients_df, palette=colors)\n",
    "\n",
    "plt.title('Linear Regression Coefficients', fontsize=20)\n",
    "plt.xlabel('Coefficient Value', fontsize=15)\n",
    "plt.ylabel('Feature', fontsize=15)\n",
    "plt.xticks(fontsize=12)\n",
    "plt.yticks(fontsize=12)\n",
    "\n",
    "# 自动调整布局\n",
    "plt.tight_layout()\n",
    "\n",
    "plt.savefig(\"C:/Users/Lenovo/Desktop/new_study/CNS/output/XGBoost_regression_coefficients_figures.png\")\n",
    "\n",
    "# 显示图形\n",
    "plt.show()"
   ]
  },
  {
   "cell_type": "code",
   "execution_count": null,
   "id": "23a6e8e3",
   "metadata": {
    "ExecuteTime": {
     "end_time": "2024-03-24T14:20:18.547113Z",
     "start_time": "2024-03-24T14:20:18.547113Z"
    }
   },
   "outputs": [],
   "source": [
    "#获得截距\n",
    "intercept = linear_regressor.intercept_\n",
    "print(intercept)\n",
    "intercept_term = f\"{intercept}\"\n",
    "# 构建线性回归方程\n",
    "equation = \" + \".join(f\"{row['Coefficient']} * {row['Feature']}\" for index, row in coefficients_df.iterrows())\n",
    "linear_regression_expression = f\"y = {equation} + {intercept_term}\"\n",
    "print(linear_regression_expression)"
   ]
  },
  {
   "cell_type": "code",
   "execution_count": 35,
   "id": "aaead9f9",
   "metadata": {
    "ExecuteTime": {
     "end_time": "2024-03-24T14:20:18.927276Z",
     "start_time": "2024-03-24T14:20:18.914001Z"
    }
   },
   "outputs": [],
   "source": [
    "# 使用生成的表达式进行回归值的预测\n",
    "def predict_regression_value(features, coefficients):\n",
    "    return features @ coefficients + intercept\n",
    "\n",
    "selected_regression_features = coefficients_df['Feature'].tolist()\n",
    "\n",
    "selected_regression_features_value = training_data_df[selected_regression_features]\n",
    "\n",
    "coefficients_list = coefficients_df['Coefficient'].tolist()\n",
    "coefficients_array = np.array(coefficients_list)\n",
    "\n",
    "# 初始化标准化器\n",
    "scaler = StandardScaler()\n",
    "# 对每一列数据进行标准化\n",
    "selected_regression_features_value_standardized = scaler.fit_transform(selected_regression_features_value)\n",
    "#print(selected_regression_features_value)\n",
    "#print(selected_regression_features_value_standardized)\n"
   ]
  },
  {
   "cell_type": "code",
   "execution_count": 36,
   "id": "79e0de7a",
   "metadata": {
    "ExecuteTime": {
     "end_time": "2024-03-24T14:20:19.970215Z",
     "start_time": "2024-03-24T14:20:19.958920Z"
    }
   },
   "outputs": [
    {
     "name": "stdout",
     "output_type": "stream",
     "text": [
      "          Value\n",
      "0      3.190330\n",
      "1      3.050736\n",
      "2      7.604677\n",
      "3      2.587661\n",
      "4      2.724858\n",
      "...         ...\n",
      "1195   9.264351\n",
      "1196   7.286879\n",
      "1197   9.172533\n",
      "1198   8.636312\n",
      "1199  10.148186\n",
      "\n",
      "[1200 rows x 1 columns]\n"
     ]
    }
   ],
   "source": [
    "predicted_regression_value = predict_regression_value(selected_regression_features_value_standardized, coefficients_array)\n",
    "\n",
    "predicted_regression_value_df = pd.DataFrame({'Value':predicted_regression_value})\n",
    "print(predicted_regression_value_df)\n"
   ]
  },
  {
   "cell_type": "code",
   "execution_count": 37,
   "id": "02fe9764",
   "metadata": {
    "ExecuteTime": {
     "end_time": "2024-03-24T14:20:23.379790Z",
     "start_time": "2024-03-24T14:20:23.352227Z"
    }
   },
   "outputs": [
    {
     "name": "stdout",
     "output_type": "stream",
     "text": [
      "        Value  LABEL\n",
      "0    3.190330      1\n",
      "1    3.050736      1\n",
      "2    7.604677      1\n",
      "3    2.587661      1\n",
      "4    2.724858      1\n",
      "..        ...    ...\n",
      "201  3.298779      1\n",
      "202  3.698032      1\n",
      "203  5.652706      1\n",
      "204  3.698032      1\n",
      "205  4.017149      1\n",
      "\n",
      "[206 rows x 2 columns]\n",
      "          Value  LABEL\n",
      "206    9.092326      0\n",
      "207    7.251679      0\n",
      "208    9.956185      0\n",
      "209    7.959229      0\n",
      "210    9.598852      0\n",
      "...         ...    ...\n",
      "1195   9.264351      0\n",
      "1196   7.286879      0\n",
      "1197   9.172533      0\n",
      "1198   8.636312      0\n",
      "1199  10.148186      0\n",
      "\n",
      "[994 rows x 2 columns]\n"
     ]
    }
   ],
   "source": [
    "# 从原始数据集中获取LABEL\n",
    "LABEL_values = pd.DataFrame({'LABEL':training_data_df['LABEL']})\n",
    "# print(LABEL_values)\n",
    "# 合并两个DataFrame\n",
    "merged_df = pd.concat([predicted_regression_value_df, LABEL_values], axis=1)\n",
    "\n",
    "# 划分两类\n",
    "AMP_predicted = merged_df[merged_df['LABEL'] == 1]\n",
    "NON_AMP_predicted = merged_df[merged_df['LABEL'] == 0]\n",
    "\n",
    "#扔掉非零项\n",
    "AMP_predicted_clean = AMP_predicted.dropna()\n",
    "NON_AMP_predicted_clean = NON_AMP_predicted.dropna()\n",
    "\n",
    "# 求\"Value\"列的平均值\n",
    "average_value = AMP_predicted_clean['Value'].mean()\n",
    "\n",
    "print(AMP_predicted_clean)\n",
    "print(NON_AMP_predicted_clean)\n",
    "#print(average_value)"
   ]
  },
  {
   "cell_type": "code",
   "execution_count": 38,
   "id": "fa1b0c68",
   "metadata": {
    "ExecuteTime": {
     "end_time": "2024-03-24T14:20:23.975745Z",
     "start_time": "2024-03-24T14:20:23.800504Z"
    }
   },
   "outputs": [
    {
     "data": {
      "image/png": "[encoded data removed]",
      "text/plain": [
       "<Figure size 800x600 with 1 Axes>"
      ]
     },
     "metadata": {},
     "output_type": "display_data"
    }
   ],
   "source": [
    "# 合并两个DataFrame\n",
    "merged_final_df = pd.concat([AMP_predicted_clean, NON_AMP_predicted_clean], ignore_index=True)\n",
    "merged_final_df['LABEL'] = merged_final_df['LABEL'].replace({0: 'Non-AMP', 1: 'AMP'})\n",
    "# 使用Seaborn绘制箱线图\n",
    "plt.figure(figsize=(8, 6))\n",
    "sns.boxplot(x='LABEL', y='Value', hue='LABEL', data=merged_final_df)\n",
    "plt.title('Mapping without Translation')\n",
    "\n",
    "plt.savefig(\"C:/Users/Lenovo/Desktop/new_study/CNS/output/XGBoost_regression_boxplot_figures.png\")\n",
    "\n",
    "plt.show()"
   ]
  },
  {
   "cell_type": "code",
   "execution_count": 39,
   "id": "2aec40a6",
   "metadata": {
    "ExecuteTime": {
     "end_time": "2024-03-24T14:20:25.612913Z",
     "start_time": "2024-03-24T14:20:25.606288Z"
    }
   },
   "outputs": [
    {
     "name": "stdout",
     "output_type": "stream",
     "text": [
      "         Value\n",
      "0     0.961082\n",
      "1     0.965980\n",
      "2     0.230100\n",
      "3     0.978316\n",
      "4     0.975207\n",
      "...        ...\n",
      "1195  0.053788\n",
      "1196  0.291120\n",
      "1197  0.058657\n",
      "1198  0.096269\n",
      "1199  0.022949\n",
      "\n",
      "[1200 rows x 1 columns]\n"
     ]
    }
   ],
   "source": [
    "def sig(x):\n",
    "    return 1/(1 + np.exp((x - np.log(600))))\n",
    "\n",
    "\n",
    "# 使用 sig 函数映射到 0-1 范围\n",
    "transformed_values = sig(predicted_regression_value)\n",
    "transformed_values_df = pd.DataFrame({'Value':transformed_values})\n",
    "\n",
    "print(transformed_values_df)"
   ]
  },
  {
   "cell_type": "code",
   "execution_count": 40,
   "id": "9c0040be",
   "metadata": {
    "ExecuteTime": {
     "end_time": "2024-03-24T14:20:26.680737Z",
     "start_time": "2024-03-24T14:20:26.663689Z"
    }
   },
   "outputs": [
    {
     "name": "stdout",
     "output_type": "stream",
     "text": [
      "      LABEL\n",
      "0         1\n",
      "1         1\n",
      "2         1\n",
      "3         1\n",
      "4         1\n",
      "...     ...\n",
      "1195      0\n",
      "1196      0\n",
      "1197      0\n",
      "1198      0\n",
      "1199      0\n",
      "\n",
      "[1200 rows x 1 columns]\n"
     ]
    }
   ],
   "source": [
    "# 从原始数据集中获取LABEL\n",
    "LABEL_values = pd.DataFrame({'LABEL':training_data_df['LABEL']})\n",
    "print(LABEL_values)"
   ]
  },
  {
   "cell_type": "code",
   "execution_count": 41,
   "id": "b0b03337",
   "metadata": {
    "ExecuteTime": {
     "end_time": "2024-03-24T14:20:27.598330Z",
     "start_time": "2024-03-24T14:20:27.582859Z"
    }
   },
   "outputs": [
    {
     "name": "stdout",
     "output_type": "stream",
     "text": [
      "        Value  LABEL\n",
      "0    0.961082      1\n",
      "1    0.965980      1\n",
      "2    0.230100      1\n",
      "3    0.978316      1\n",
      "4    0.975207      1\n",
      "..        ...    ...\n",
      "201  0.956816      1\n",
      "202  0.936962      1\n",
      "203  0.677919      1\n",
      "204  0.936962      1\n",
      "205  0.915272      1\n",
      "\n",
      "[206 rows x 2 columns]\n",
      "         Value  LABEL\n",
      "206   0.063246      0\n",
      "207   0.298438      0\n",
      "208   0.027672      0\n",
      "209   0.173317      0\n",
      "210   0.039093      0\n",
      "...        ...    ...\n",
      "1195  0.053788      0\n",
      "1196  0.291120      0\n",
      "1197  0.058657      0\n",
      "1198  0.096269      0\n",
      "1199  0.022949      0\n",
      "\n",
      "[994 rows x 2 columns]\n"
     ]
    }
   ],
   "source": [
    "# 合并两个DataFrame\n",
    "merged_df = pd.concat([transformed_values_df, LABEL_values], axis=1)\n",
    "\n",
    "# 划分两类\n",
    "AMP_predicted = merged_df[merged_df['LABEL'] == 1]\n",
    "NON_AMP_predicted = merged_df[merged_df['LABEL'] == 0]\n",
    "\n",
    "AMP_predicted_clean = AMP_predicted.dropna()\n",
    "NON_AMP_predicted_clean = NON_AMP_predicted.dropna()\n",
    "\n",
    "# 求\"Value\"列的平均值\n",
    "average_value = AMP_predicted_clean['Value'].mean()\n",
    "\n",
    "print(AMP_predicted_clean)\n",
    "print(NON_AMP_predicted_clean)\n",
    "#print(average_value)"
   ]
  },
  {
   "cell_type": "code",
   "execution_count": 42,
   "id": "8ac1cb4b",
   "metadata": {
    "ExecuteTime": {
     "end_time": "2024-03-24T14:20:28.588370Z",
     "start_time": "2024-03-24T14:20:28.420843Z"
    }
   },
   "outputs": [
    {
     "data": {
      "image/png": "[encoded data removed]",
      "text/plain": [
       "<Figure size 800x600 with 1 Axes>"
      ]
     },
     "metadata": {},
     "output_type": "display_data"
    }
   ],
   "source": [
    "# 合并两个DataFrame\n",
    "merged_final_df = pd.concat([AMP_predicted_clean, NON_AMP_predicted_clean], ignore_index=True)\n",
    "merged_final_df['LABEL'] = merged_final_df['LABEL'].replace({0: 'Non-AMP', 1: 'AMP'})\n",
    "# 使用Seaborn绘制箱线图\n",
    "plt.figure(figsize=(8, 6))\n",
    "sns.boxplot(x='LABEL', y='Value', hue='LABEL',data=merged_final_df)\n",
    "plt.title('Mapping After Sigmod Function Translation')\n",
    "\n",
    "plt.savefig(\"C:/Users/Lenovo/Desktop/new_study/CNS/output/XGBoost_regression_boxplot_figures_sofmaxrepaired.png\")\n",
    "\n",
    "plt.show()"
   ]
  },
  {
   "cell_type": "code",
   "execution_count": null,
   "id": "aaa1389d",
   "metadata": {},
   "outputs": [],
   "source": []
  },
  {
   "cell_type": "code",
   "execution_count": null,
   "id": "7109a021",
   "metadata": {},
   "outputs": [],
   "source": []
  }
 ],
 "metadata": {
  "kernelspec": {
   "display_name": "Gaussian_splatting",
   "language": "python",
   "name": "gaussian_splatting"
  },
  "language_info": {
   "codemirror_mode": {
    "name": "ipython",
    "version": 3
   },
   "file_extension": ".py",
   "mimetype": "text/x-python",
   "name": "python",
   "nbconvert_exporter": "python",
   "pygments_lexer": "ipython3",
   "version": "3.8.18"
  },
  "toc": {
   "base_numbering": 1,
   "nav_menu": {},
   "number_sections": true,
   "sideBar": true,
   "skip_h1_title": false,
   "title_cell": "Table of Contents",
   "title_sidebar": "Contents",
   "toc_cell": false,
   "toc_position": {},
   "toc_section_display": true,
   "toc_window_display": false
  },
  "varInspector": {
   "cols": {
    "lenName": 16,
    "lenType": 16,
    "lenVar": 40
   },
   "kernels_config": {
    "python": {
     "delete_cmd_postfix": "",
     "delete_cmd_prefix": "del ",
     "library": "var_list.py",
     "varRefreshCmd": "print(var_dic_list())"
    },
    "r": {
     "delete_cmd_postfix": ") ",
     "delete_cmd_prefix": "rm(",
     "library": "var_list.r",
     "varRefreshCmd": "cat(var_dic_list()) "
    }
   },
   "types_to_exclude": [
    "module",
    "function",
    "builtin_function_or_method",
    "instance",
    "_Feature"
   ],
   "window_display": false
  }
 },
 "nbformat": 4,
 "nbformat_minor": 5
}
