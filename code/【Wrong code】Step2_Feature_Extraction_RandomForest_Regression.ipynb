{
 "cells": [
  {
   "cell_type": "code",
   "execution_count": 1,
   "id": "43318412",
   "metadata": {
    "ExecuteTime": {
     "end_time": "2024-03-24T06:50:23.029257Z",
     "start_time": "2024-03-24T06:50:20.794327Z"
    }
   },
   "outputs": [],
   "source": [
    "import pandas as pd\n",
    "from sklearn.linear_model import LinearRegression\n",
    "from sklearn.model_selection import train_test_split\n",
    "from sklearn.metrics import mean_squared_error, mean_absolute_error, r2_score\n",
    "import matplotlib.pyplot as plt\n",
    "import numpy as np\n",
    "from sklearn.preprocessing import StandardScaler\n",
    "import seaborn as sns\n",
    "import matplotlib.pyplot as plt"
   ]
  },
  {
   "cell_type": "code",
   "execution_count": 2,
   "id": "701997ea",
   "metadata": {
    "ExecuteTime": {
     "end_time": "2024-03-24T06:50:23.200882Z",
     "start_time": "2024-03-24T06:50:23.062120Z"
    }
   },
   "outputs": [],
   "source": [
    "# 假设importance.csv包含Feature列和Importance列\n",
    "csv_file1_path = \"C:/Users/Lenovo/Desktop/new_study/CNS/output/RandomForest_importance.csv\"\n",
    "csv_file2_path = \"C:/Users/Lenovo/Desktop/new_study/CNS/data/ASP.csv\"\n",
    "\n",
    "# 读取Features CSV文件\n",
    "features_df = pd.read_csv(csv_file1_path)\n",
    "# 读取训练集和Label的CSV文件\n",
    "training_data_df = pd.read_csv(csv_file2_path)"
   ]
  },
  {
   "cell_type": "code",
   "execution_count": 3,
   "id": "522d6d6d",
   "metadata": {
    "ExecuteTime": {
     "end_time": "2024-03-23T16:15:54.212126Z",
     "start_time": "2024-03-23T16:15:54.202314Z"
    }
   },
   "outputs": [
    {
     "name": "stdout",
     "output_type": "stream",
     "text": [
      "                       Feature  Importance\n",
      "0            _NormalizedVDWVC3    0.152742\n",
      "1            _PolarizabilityC3    0.130987\n",
      "2                  _PolarityC3    0.088305\n",
      "3                  _PolarityC2    0.051573\n",
      "4                    _ChargeC1    0.049703\n",
      "5                   _ChargeT23    0.040763\n",
      "6                charge of all    0.040754\n",
      "7                 _ChargeD3100    0.038966\n",
      "8              negative_charge    0.029184\n",
      "9                    _ChargeC3    0.027597\n",
      "10        _NormalizedVDWVD1100    0.027542\n",
      "11                          KV    0.023979\n",
      "12    _SolventAccessibilityT23    0.020302\n",
      "13          _PolarizabilityT12    0.020281\n",
      "14                _ChargeD3075    0.019816\n",
      "15          _NormalizedVDWVT12    0.018545\n",
      "16     _SolventAccessibilityC3    0.015801\n",
      "17                           P    0.014827\n",
      "18        _PolarizabilityD1100    0.014582\n",
      "19                          GG    0.014409\n",
      "20                _PolarityT13    0.013669\n",
      "21        _HydrophobicityD2100    0.013210\n",
      "22                   _ChargeC2    0.012738\n",
      "23          _SecondaryStrD3100    0.012079\n",
      "24                           D    0.011706\n",
      "25           _NormalizedVDWVC1    0.011456\n",
      "26                _ChargeD3050    0.011453\n",
      "27  _SolventAccessibilityD3100    0.010265\n",
      "28                  _ChargeT12    0.009700\n",
      "29           _PolarizabilityC2    0.009094\n",
      "30                  vdW_volume    0.008642\n",
      "31                _ChargeD3025    0.008553\n",
      "32                          RL    0.008133\n",
      "33              _PolarityD2075    0.007869\n",
      "34                           E    0.005658\n",
      "35                _ChargeD3001    0.005115\n"
     ]
    }
   ],
   "source": [
    "print(features_df)"
   ]
  },
  {
   "cell_type": "code",
   "execution_count": 4,
   "id": "3860531a",
   "metadata": {
    "ExecuteTime": {
     "end_time": "2024-03-23T16:15:55.400094Z",
     "start_time": "2024-03-23T16:15:55.374278Z"
    }
   },
   "outputs": [
    {
     "name": "stdout",
     "output_type": "stream",
     "text": [
      "                                  SEQUENCE       A       R       N       D  \\\n",
      "0                              IKQLLHFFQRF   0.000   9.091   0.000   0.000   \n",
      "1                     RLLRRLLRRLLRRLLRRLLR   0.000  50.000   0.000   0.000   \n",
      "2                  GIGKFLHSAKKFGKAFVGEIMNS   8.696   0.000   4.348   0.000   \n",
      "3                              LKRFLKWFKRF   0.000  18.182   0.000   0.000   \n",
      "4                              KLFKRWKHLFR   0.000  18.182   0.000   0.000   \n",
      "...                                    ...     ...     ...     ...     ...   \n",
      "1195         AVEFLLDQSIADSPLAKKVEFLESKGLTQ  10.345   0.000   0.000   6.897   \n",
      "1196           GQTSISKGLNYLTIMAPGNLWHMRNNF   3.704   3.704  14.815   0.000   \n",
      "1197    WGYSKHNGPENWHKDFPIANGDRQSPVDIDTATA   8.824   2.941   8.824  11.765   \n",
      "1198        IELFNAFPSLLRHFPGSHNTIFKNMTEQRK   3.333   6.667  10.000   0.000   \n",
      "1199  RLGLLLSVLAATLAQAPAPDVPGCSRGSCYPATGDL  16.667   5.556   0.000   5.556   \n",
      "\n",
      "          C       E       Q       G      H  ...  _PolarizabilityD2050  \\\n",
      "0     0.000   0.000  18.182   0.000  9.091  ...                27.273   \n",
      "1     0.000   0.000   0.000   0.000  0.000  ...                50.000   \n",
      "2     0.000   4.348   0.000  17.391  4.348  ...                73.913   \n",
      "3     0.000   0.000   0.000   0.000  0.000  ...                 9.091   \n",
      "4     0.000   0.000   0.000   0.000  9.091  ...                18.182   \n",
      "...     ...     ...     ...     ...    ...  ...                   ...   \n",
      "1195  0.000  10.345   6.897   3.448  0.000  ...                48.276   \n",
      "1196  0.000   0.000   3.704  11.111  3.704  ...                44.444   \n",
      "1197  0.000   2.941   2.941   8.824  5.882  ...                50.000   \n",
      "1198  0.000   6.667   3.333   3.333  6.667  ...                33.333   \n",
      "1199  5.556   0.000   2.778  11.111  0.000  ...                41.667   \n",
      "\n",
      "      _PolarizabilityD2075  _PolarizabilityD2100  _PolarizabilityD3001  \\\n",
      "0                   36.364                81.818                18.182   \n",
      "1                   70.000                95.000                 5.000   \n",
      "2                   82.609                95.652                17.391   \n",
      "3                    9.091                45.455                18.182   \n",
      "4                   18.182                81.818                 9.091   \n",
      "...                    ...                   ...                   ...   \n",
      "1195                68.966               100.000                13.793   \n",
      "1196                70.370                96.296                25.926   \n",
      "1197                70.588                85.294                 2.941   \n",
      "1198                63.333                93.333                13.333   \n",
      "1199                61.111               100.000                 2.778   \n",
      "\n",
      "      _PolarizabilityD3025  _PolarizabilityD3050  _PolarizabilityD3075  \\\n",
      "0                   18.182                63.636                72.727   \n",
      "1                   20.000                45.000                65.000   \n",
      "2                   21.739                43.478                52.174   \n",
      "3                   27.273                54.545                72.727   \n",
      "4                   27.273                45.455                63.636   \n",
      "...                    ...                   ...                   ...   \n",
      "1195                13.793                58.621                62.069   \n",
      "1196                40.741                77.778                85.185   \n",
      "1197                 8.824                17.647                38.235   \n",
      "1198                23.333                46.667                76.667   \n",
      "1199                83.333                 2.778                72.222   \n",
      "\n",
      "      _PolarizabilityD3100      MIC  LABEL  \n",
      "0                  100.000    24.00      1  \n",
      "1                  100.000    32.00      1  \n",
      "2                   91.304   128.00      1  \n",
      "3                  100.000     8.00      1  \n",
      "4                  100.000    31.25      1  \n",
      "...                    ...      ...    ...  \n",
      "1195                86.207  8192.00      0  \n",
      "1196               100.000  8192.00      0  \n",
      "1197                67.647  8192.00      0  \n",
      "1198               100.000  8192.00      0  \n",
      "1199                83.333  8192.00      0  \n",
      "\n",
      "[1200 rows x 579 columns]\n"
     ]
    }
   ],
   "source": [
    "print(training_data_df)"
   ]
  },
  {
   "cell_type": "code",
   "execution_count": 5,
   "id": "9dcf101b",
   "metadata": {
    "ExecuteTime": {
     "end_time": "2024-03-23T16:15:58.682086Z",
     "start_time": "2024-03-23T16:15:58.666940Z"
    }
   },
   "outputs": [
    {
     "name": "stdout",
     "output_type": "stream",
     "text": [
      "['_NormalizedVDWVC3', '_PolarizabilityC3', '_PolarityC3', '_PolarityC2', '_ChargeC1', '_ChargeT23', 'charge of all', '_ChargeD3100', 'negative_charge', '_ChargeC3', '_NormalizedVDWVD1100', 'KV', '_SolventAccessibilityT23', '_PolarizabilityT12', '_ChargeD3075', '_NormalizedVDWVT12', '_SolventAccessibilityC3', 'P', '_PolarizabilityD1100', 'GG', '_PolarityT13', '_HydrophobicityD2100']\n"
     ]
    }
   ],
   "source": [
    "# ascending=False，降序排列\n",
    "top_features = features_df.sort_values(by=\"Importance\", ascending=False).head(22)['Feature'].tolist()\n",
    "print(top_features)"
   ]
  },
  {
   "cell_type": "code",
   "execution_count": 6,
   "id": "c268aa74",
   "metadata": {
    "ExecuteTime": {
     "end_time": "2024-03-23T16:15:59.286970Z",
     "start_time": "2024-03-23T16:15:59.272729Z"
    }
   },
   "outputs": [
    {
     "name": "stdout",
     "output_type": "stream",
     "text": [
      "      _NormalizedVDWVC3  _PolarizabilityC3  _PolarityC3  _PolarityC2  \\\n",
      "0                 0.545              0.545        0.273        0.182   \n",
      "1                 0.500              0.500        0.500        0.000   \n",
      "2                 0.391              0.391        0.217        0.087   \n",
      "3                 0.818              0.818        0.455        0.000   \n",
      "4                 0.818              0.818        0.545        0.000   \n",
      "...                 ...                ...          ...          ...   \n",
      "1195              0.172              0.172        0.103        0.207   \n",
      "1196              0.296              0.296        0.111        0.222   \n",
      "1197              0.265              0.265        0.147        0.235   \n",
      "1198              0.367              0.367        0.200        0.267   \n",
      "1199              0.083              0.083        0.056        0.139   \n",
      "\n",
      "      _ChargeC1  _ChargeT23  charge of all  _ChargeD3100  negative_charge  \\\n",
      "0         0.182       0.000              3         0.000                0   \n",
      "1         0.500       0.000             10         0.000                0   \n",
      "2         0.174       0.091              4        82.609                1   \n",
      "3         0.455       0.000              5         0.000                0   \n",
      "4         0.455       0.000              6         0.000                0   \n",
      "...         ...         ...            ...           ...              ...   \n",
      "1195      0.103       0.357             -2        79.310                5   \n",
      "1196      0.074       0.000              3         0.000                0   \n",
      "1197      0.088       0.242              0        88.235                5   \n",
      "1198      0.133       0.138              4        90.000                2   \n",
      "1199      0.056       0.114              0        97.222                2   \n",
      "\n",
      "      _ChargeC3  ...  _SolventAccessibilityT23  _PolarizabilityT12  \\\n",
      "0         0.000  ...                     0.000               0.000   \n",
      "1         0.000  ...                     0.000               0.000   \n",
      "2         0.043  ...                     0.091               0.227   \n",
      "3         0.000  ...                     0.000               0.000   \n",
      "4         0.000  ...                     0.100               0.000   \n",
      "...         ...  ...                       ...                 ...   \n",
      "1195      0.172  ...                     0.179               0.429   \n",
      "1196      0.000  ...                     0.154               0.385   \n",
      "1197      0.147  ...                     0.212               0.303   \n",
      "1198      0.067  ...                     0.172               0.241   \n",
      "1199      0.056  ...                     0.057               0.571   \n",
      "\n",
      "      _ChargeD3075  _NormalizedVDWVT12  _SolventAccessibilityC3       P  \\\n",
      "0            0.000               0.000                    0.091   0.000   \n",
      "1            0.000               0.000                    0.000   0.000   \n",
      "2           82.609               0.227                    0.174   0.000   \n",
      "3            0.000               0.000                    0.000   0.000   \n",
      "4            0.000               0.000                    0.091   0.000   \n",
      "...            ...                 ...                      ...     ...   \n",
      "1195        41.379               0.429                    0.172   3.448   \n",
      "1196         0.000               0.308                    0.333   3.704   \n",
      "1197        64.706               0.333                    0.294   8.824   \n",
      "1198         6.667               0.172                    0.300   6.667   \n",
      "1199        55.556               0.343                    0.278  11.111   \n",
      "\n",
      "      _PolarizabilityD1100   GG  _PolarityT13  _HydrophobicityD2100  \n",
      "0                    0.000  0.0         0.400                54.545  \n",
      "1                    0.000  0.0         0.526                 0.000  \n",
      "2                  100.000  0.0         0.136               100.000  \n",
      "3                    0.000  0.0         0.600                 0.000  \n",
      "4                    0.000  0.0         0.600                72.727  \n",
      "...                    ...  ...           ...                   ...  \n",
      "1195                96.552  0.0         0.036                96.552  \n",
      "1196                66.667  0.0         0.115                81.481  \n",
      "1197               100.000  0.0         0.030               100.000  \n",
      "1198                86.667  0.0         0.103                86.667  \n",
      "1199                97.222  0.0         0.029                94.444  \n",
      "\n",
      "[1200 rows x 22 columns]\n"
     ]
    }
   ],
   "source": [
    "# 从原始数据集中获得前22的列\n",
    "selected_columns = training_data_df[top_features]\n",
    "print(selected_columns)"
   ]
  },
  {
   "cell_type": "code",
   "execution_count": 7,
   "id": "51386665",
   "metadata": {
    "ExecuteTime": {
     "end_time": "2024-03-23T16:16:01.402013Z",
     "start_time": "2024-03-23T16:16:01.381081Z"
    },
    "scrolled": true
   },
   "outputs": [
    {
     "name": "stdout",
     "output_type": "stream",
     "text": [
      "0         24.00\n",
      "1         32.00\n",
      "2        128.00\n",
      "3          8.00\n",
      "4         31.25\n",
      "         ...   \n",
      "1195    8192.00\n",
      "1196    8192.00\n",
      "1197    8192.00\n",
      "1198    8192.00\n",
      "1199    8192.00\n",
      "Name: MIC, Length: 1200, dtype: float64\n",
      "0       3.178054\n",
      "1       3.465736\n",
      "2       4.852030\n",
      "3       2.079442\n",
      "4       3.442019\n",
      "          ...   \n",
      "1195    9.010913\n",
      "1196    9.010913\n",
      "1197    9.010913\n",
      "1198    9.010913\n",
      "1199    9.010913\n",
      "Name: MIC, Length: 1200, dtype: float64\n"
     ]
    }
   ],
   "source": [
    "# 获取应变量标签\n",
    "y = training_data_df[\"MIC\"]\n",
    "print(y)\n",
    "y = np.log(y)\n",
    "print(y)\n",
    "# 初始化线性回归模型\n",
    "linear_regressor = LinearRegression()"
   ]
  },
  {
   "cell_type": "code",
   "execution_count": 21,
   "id": "45c45c35",
   "metadata": {
    "ExecuteTime": {
     "end_time": "2024-03-23T17:04:21.887371Z",
     "start_time": "2024-03-23T17:04:21.863681Z"
    }
   },
   "outputs": [
    {
     "name": "stdout",
     "output_type": "stream",
     "text": [
      "      _NormalizedVDWVC3  _PolarizabilityC3  _PolarityC3  _PolarityC2  \\\n",
      "867               0.231              0.231        0.154        0.077   \n",
      "741               0.235              0.235        0.078        0.333   \n",
      "467               0.129              0.129        0.032        0.226   \n",
      "442               0.031              0.031        0.000        0.688   \n",
      "610               0.083              0.083        0.083        0.333   \n",
      "...                 ...                ...          ...          ...   \n",
      "1033              0.385              0.385        0.308        0.154   \n",
      "763               0.300              0.300        0.150        0.100   \n",
      "835               0.357              0.357        0.214        0.143   \n",
      "559               0.294              0.294        0.176        0.118   \n",
      "684               0.341              0.341        0.146        0.098   \n",
      "\n",
      "      _ChargeC1  _ChargeT23  charge of all  _ChargeD3100  negative_charge  \\\n",
      "867       0.077       0.000              2         0.000                0   \n",
      "741       0.059       0.100              0        60.784                4   \n",
      "467       0.032       0.133             -2        70.968                3   \n",
      "442       0.000       0.581            -10        96.875               10   \n",
      "610       0.000       0.455             -2        83.333                3   \n",
      "...         ...         ...            ...           ...              ...   \n",
      "1033      0.231       0.083              3        61.538                1   \n",
      "763       0.100       0.000              3         0.000                0   \n",
      "835       0.143       0.231              1       100.000                2   \n",
      "559       0.059       0.250              1        82.353                2   \n",
      "684       0.098       0.050              5        90.244                1   \n",
      "\n",
      "      _ChargeC3  ...  _SolventAccessibilityT23  _PolarizabilityT12  \\\n",
      "867       0.000  ...                     0.000               0.250   \n",
      "741       0.078  ...                     0.140               0.280   \n",
      "467       0.097  ...                     0.033               0.367   \n",
      "442       0.312  ...                     0.387               0.290   \n",
      "610       0.250  ...                     0.091               0.182   \n",
      "...         ...  ...                       ...                 ...   \n",
      "1033      0.077  ...                     0.250               0.167   \n",
      "763       0.000  ...                     0.158               0.211   \n",
      "835       0.143  ...                     0.231               0.154   \n",
      "559       0.118  ...                     0.312               0.312   \n",
      "684       0.024  ...                     0.075               0.150   \n",
      "\n",
      "      _ChargeD3075  _NormalizedVDWVT12  _SolventAccessibilityC3       P  \\\n",
      "867          0.000               0.167                    0.231   0.000   \n",
      "741         58.824               0.320                    0.314  11.765   \n",
      "467         67.742               0.300                    0.323  12.903   \n",
      "442         78.125               0.581                    0.344  25.000   \n",
      "610         66.667               0.182                    0.167   0.000   \n",
      "...            ...                 ...                      ...     ...   \n",
      "1033        61.538               0.250                    0.308   7.692   \n",
      "763          0.000               0.263                    0.300   5.000   \n",
      "835         85.714               0.154                    0.286   0.000   \n",
      "559         70.588               0.250                    0.294   0.000   \n",
      "684         90.244               0.175                    0.366   9.756   \n",
      "\n",
      "      _PolarizabilityD1100    GG  _PolarityT13  _HydrophobicityD2100  \n",
      "867                100.000  8.33         0.167               100.000  \n",
      "741                 98.039  0.00         0.020               100.000  \n",
      "467                 87.097  0.00         0.033                90.323  \n",
      "442                 65.625  0.00         0.000               100.000  \n",
      "610                 50.000  0.00         0.091                50.000  \n",
      "...                    ...   ...           ...                   ...  \n",
      "1033                61.538  0.00         0.333               100.000  \n",
      "763                100.000  0.00         0.158               100.000  \n",
      "835                 92.857  0.00         0.385                92.857  \n",
      "559                100.000  0.00         0.062               100.000  \n",
      "684                 95.122  0.00         0.100                95.122  \n",
      "\n",
      "[960 rows x 22 columns]\n",
      "---------------------------------------------------------------------------\n",
      "[[-0.28214531 -0.28214531 -0.12548181 ...  3.52963354  0.3132198\n",
      "   0.58287451]\n",
      " [-0.2594783  -0.2594783  -0.74646483 ... -0.32945691 -0.75921756\n",
      "   0.58287451]\n",
      " [-0.86015421 -0.86015421 -1.12232297 ... -0.32945691 -0.66437616\n",
      "   0.07519289]\n",
      " ...\n",
      " [ 0.43186567  0.43186567  0.36476795 ... -0.32945691  1.9036371\n",
      "   0.20813339]\n",
      " [ 0.07486018  0.07486018  0.05427644 ... -0.32945691 -0.45280688\n",
      "   0.58287451]\n",
      " [ 0.34119761  0.34119761 -0.19084844 ... -0.32945691 -0.17557818\n",
      "   0.32696142]]\n",
      "867     9.010913\n",
      "741     9.010913\n",
      "467     9.010913\n",
      "442     9.010913\n",
      "610     9.010913\n",
      "          ...   \n",
      "1033    9.010913\n",
      "763     9.010913\n",
      "835     9.010913\n",
      "559     9.010913\n",
      "684     9.010913\n",
      "Name: MIC, Length: 960, dtype: float64\n"
     ]
    }
   ],
   "source": [
    "# 划分数据集和测试集\n",
    "X_train, X_test, y_train, y_test = train_test_split(selected_columns, y, test_size=0.2, random_state=0)\n",
    "print(X_train)\n",
    "# 初始化标准化器\n",
    "scaler = StandardScaler()\n",
    "# 对每一列数据进行标准化\n",
    "X_train_standardized = scaler.fit_transform(X_train)\n",
    "X_test_standardized = scaler.transform(X_test)\n",
    "\n",
    "\n",
    "print('---------------------------------------------------------------------------')\n",
    "print(X_train_standardized)\n",
    "print(y_train)"
   ]
  },
  {
   "cell_type": "code",
   "execution_count": 13,
   "id": "a6ec865f",
   "metadata": {
    "ExecuteTime": {
     "end_time": "2024-03-23T16:31:50.010293Z",
     "start_time": "2024-03-23T16:31:49.994942Z"
    }
   },
   "outputs": [],
   "source": [
    "# 拟合模型\n",
    "linear_regressor.fit(X_train_standardized, y_train)\n",
    "\n",
    "# 预测模型\n",
    "y_pred = linear_regressor.predict(X_test_standardized)"
   ]
  },
  {
   "cell_type": "code",
   "execution_count": 24,
   "id": "15c7fad0",
   "metadata": {
    "ExecuteTime": {
     "end_time": "2024-03-23T17:06:07.393383Z",
     "start_time": "2024-03-23T17:06:07.386241Z"
    }
   },
   "outputs": [
    {
     "name": "stdout",
     "output_type": "stream",
     "text": [
      "Mean Squared Error: 2.1256211415547313\n",
      "Mean Absolute Error: 1.0492468494695517\n",
      "R-squared: 0.5928424489373689\n"
     ]
    }
   ],
   "source": [
    "# 计算回归分析的评估指标\n",
    "mse = mean_squared_error(y_test, y_pred)\n",
    "mae = mean_absolute_error(y_test, y_pred)\n",
    "r2 = r2_score(y_test, y_pred)\n",
    "\n",
    "# 打印结果\n",
    "print(f\"Mean Squared Error: {mse}\")\n",
    "print(f\"Mean Absolute Error: {mae}\")\n",
    "print(f\"R-squared: {r2}\")"
   ]
  },
  {
   "cell_type": "code",
   "execution_count": 25,
   "id": "cf88ed32",
   "metadata": {
    "ExecuteTime": {
     "end_time": "2024-03-23T17:06:08.318730Z",
     "start_time": "2024-03-23T17:06:08.300699Z"
    }
   },
   "outputs": [
    {
     "name": "stdout",
     "output_type": "stream",
     "text": [
      "_NormalizedVDWVC3: -47077916500801.516\n",
      "_PolarizabilityC3: 47077916500801.22\n",
      "_PolarityC3: -0.138671875\n",
      "_PolarityC2: -0.15234375\n",
      "_ChargeC1: -0.373046875\n",
      "_ChargeT23: 0.1083984375\n",
      "charge of all: -0.24609375\n",
      "_ChargeD3100: 0.7216796875\n",
      "negative_charge: -0.150390625\n",
      "_ChargeC3: -0.005859375\n",
      "_NormalizedVDWVD1100: 0.673828125\n",
      "KV: -0.082763671875\n",
      "_SolventAccessibilityT23: 0.310546875\n",
      "_PolarizabilityT12: 0.19140625\n",
      "_ChargeD3075: -0.2353515625\n",
      "_NormalizedVDWVT12: -0.17578125\n",
      "_SolventAccessibilityC3: 0.0556640625\n",
      "P: 0.171875\n",
      "_PolarizabilityD1100: -0.376953125\n",
      "GG: -0.164459228515625\n",
      "_PolarityT13: -0.349609375\n",
      "_HydrophobicityD2100: -0.041015625\n"
     ]
    }
   ],
   "source": [
    "# 获取特征系数\n",
    "coefficients = linear_regressor.coef_\n",
    "coefficients_df = pd.DataFrame({'Feature': top_features, 'Coefficient': coefficients})\n",
    "# 按照系数降序排列\n",
    "coefficients_df = coefficients_df.sort_values(by='Coefficient', ascending=False)\n",
    "# 打印每个特征的系数\n",
    "for feature, coef in zip(top_features, coefficients):\n",
    "    print(f\"{feature}: {coef}\")"
   ]
  },
  {
   "cell_type": "code",
   "execution_count": null,
   "id": "ef7c903f",
   "metadata": {},
   "outputs": [],
   "source": []
  }
 ],
 "metadata": {
  "kernelspec": {
   "display_name": "Gaussian_splatting",
   "language": "python",
   "name": "gaussian_splatting"
  },
  "language_info": {
   "codemirror_mode": {
    "name": "ipython",
    "version": 3
   },
   "file_extension": ".py",
   "mimetype": "text/x-python",
   "name": "python",
   "nbconvert_exporter": "python",
   "pygments_lexer": "ipython3",
   "version": "3.8.18"
  },
  "toc": {
   "base_numbering": 1,
   "nav_menu": {},
   "number_sections": true,
   "sideBar": true,
   "skip_h1_title": false,
   "title_cell": "Table of Contents",
   "title_sidebar": "Contents",
   "toc_cell": false,
   "toc_position": {},
   "toc_section_display": true,
   "toc_window_display": false
  },
  "varInspector": {
   "cols": {
    "lenName": 16,
    "lenType": 16,
    "lenVar": 40
   },
   "kernels_config": {
    "python": {
     "delete_cmd_postfix": "",
     "delete_cmd_prefix": "del ",
     "library": "var_list.py",
     "varRefreshCmd": "print(var_dic_list())"
    },
    "r": {
     "delete_cmd_postfix": ") ",
     "delete_cmd_prefix": "rm(",
     "library": "var_list.r",
     "varRefreshCmd": "cat(var_dic_list()) "
    }
   },
   "types_to_exclude": [
    "module",
    "function",
    "builtin_function_or_method",
    "instance",
    "_Feature"
   ],
   "window_display": false
  }
 },
 "nbformat": 4,
 "nbformat_minor": 5
}
