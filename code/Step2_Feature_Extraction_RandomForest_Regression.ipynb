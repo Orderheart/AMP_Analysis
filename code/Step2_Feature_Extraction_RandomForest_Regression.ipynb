{
 "cells": [
  {
   "cell_type": "code",
   "execution_count": 1,
   "id": "9be644b2",
   "metadata": {
    "ExecuteTime": {
     "end_time": "2024-03-23T17:05:35.482958Z",
     "start_time": "2024-03-23T17:05:34.388498Z"
    }
   },
   "outputs": [],
   "source": [
    "import pandas as pd\n",
    "from sklearn.linear_model import LinearRegression\n",
    "from sklearn.model_selection import train_test_split\n",
    "from sklearn.metrics import mean_squared_error, mean_absolute_error, r2_score\n",
    "import matplotlib.pyplot as plt\n",
    "import numpy as np\n",
    "from sklearn.preprocessing import StandardScaler\n",
    "import seaborn as sns\n",
    "import matplotlib.pyplot as plt"
   ]
  },
  {
   "cell_type": "code",
   "execution_count": 2,
   "id": "e4f06c3f",
   "metadata": {
    "ExecuteTime": {
     "end_time": "2024-03-23T17:05:35.603788Z",
     "start_time": "2024-03-23T17:05:35.529613Z"
    }
   },
   "outputs": [],
   "source": [
    "# 假设importance.csv包含Feature列和Importance列\n",
    "csv_file1_path = \"C:/Users/Lenovo/Desktop/new_study/CNS/output/RandomForest_importance.csv\"\n",
    "csv_file2_path = \"C:/Users/Lenovo/Desktop/new_study/CNS/data/ASP.csv\"\n",
    "\n",
    "# 读取Features CSV文件\n",
    "features_df = pd.read_csv(csv_file1_path)\n",
    "# 读取训练集和Label的CSV文件\n",
    "training_data_df = pd.read_csv(csv_file2_path)"
   ]
  },
  {
   "cell_type": "code",
   "execution_count": 3,
   "id": "994075df",
   "metadata": {
    "ExecuteTime": {
     "end_time": "2024-03-23T17:05:36.727112Z",
     "start_time": "2024-03-23T17:05:36.718274Z"
    }
   },
   "outputs": [
    {
     "name": "stdout",
     "output_type": "stream",
     "text": [
      "                       Feature  Importance\n",
      "0            _NormalizedVDWVC3    0.152742\n",
      "1            _PolarizabilityC3    0.130987\n",
      "2                  _PolarityC3    0.088305\n",
      "3                  _PolarityC2    0.051573\n",
      "4                    _ChargeC1    0.049703\n",
      "5                   _ChargeT23    0.040763\n",
      "6                charge of all    0.040754\n",
      "7                 _ChargeD3100    0.038966\n",
      "8              negative_charge    0.029184\n",
      "9                    _ChargeC3    0.027597\n",
      "10        _NormalizedVDWVD1100    0.027542\n",
      "11                          KV    0.023979\n",
      "12    _SolventAccessibilityT23    0.020302\n",
      "13          _PolarizabilityT12    0.020281\n",
      "14                _ChargeD3075    0.019816\n",
      "15          _NormalizedVDWVT12    0.018545\n",
      "16     _SolventAccessibilityC3    0.015801\n",
      "17                           P    0.014827\n",
      "18        _PolarizabilityD1100    0.014582\n",
      "19                          GG    0.014409\n",
      "20                _PolarityT13    0.013669\n",
      "21        _HydrophobicityD2100    0.013210\n",
      "22                   _ChargeC2    0.012738\n",
      "23          _SecondaryStrD3100    0.012079\n",
      "24                           D    0.011706\n",
      "25           _NormalizedVDWVC1    0.011456\n",
      "26                _ChargeD3050    0.011453\n",
      "27  _SolventAccessibilityD3100    0.010265\n",
      "28                  _ChargeT12    0.009700\n",
      "29           _PolarizabilityC2    0.009094\n",
      "30                  vdW_volume    0.008642\n",
      "31                _ChargeD3025    0.008553\n",
      "32                          RL    0.008133\n",
      "33              _PolarityD2075    0.007869\n",
      "34                           E    0.005658\n",
      "35                _ChargeD3001    0.005115\n"
     ]
    }
   ],
   "source": [
    "print(features_df)"
   ]
  },
  {
   "cell_type": "code",
   "execution_count": 4,
   "id": "3a93c26a",
   "metadata": {
    "ExecuteTime": {
     "end_time": "2024-03-23T17:05:37.187142Z",
     "start_time": "2024-03-23T17:05:37.161252Z"
    },
    "scrolled": true
   },
   "outputs": [
    {
     "name": "stdout",
     "output_type": "stream",
     "text": [
      "                                  SEQUENCE       A       R       N       D  \\\n",
      "0                              IKQLLHFFQRF   0.000   9.091   0.000   0.000   \n",
      "1                     RLLRRLLRRLLRRLLRRLLR   0.000  50.000   0.000   0.000   \n",
      "2                  GIGKFLHSAKKFGKAFVGEIMNS   8.696   0.000   4.348   0.000   \n",
      "3                              LKRFLKWFKRF   0.000  18.182   0.000   0.000   \n",
      "4                              KLFKRWKHLFR   0.000  18.182   0.000   0.000   \n",
      "...                                    ...     ...     ...     ...     ...   \n",
      "1195         AVEFLLDQSIADSPLAKKVEFLESKGLTQ  10.345   0.000   0.000   6.897   \n",
      "1196           GQTSISKGLNYLTIMAPGNLWHMRNNF   3.704   3.704  14.815   0.000   \n",
      "1197    WGYSKHNGPENWHKDFPIANGDRQSPVDIDTATA   8.824   2.941   8.824  11.765   \n",
      "1198        IELFNAFPSLLRHFPGSHNTIFKNMTEQRK   3.333   6.667  10.000   0.000   \n",
      "1199  RLGLLLSVLAATLAQAPAPDVPGCSRGSCYPATGDL  16.667   5.556   0.000   5.556   \n",
      "\n",
      "          C       E       Q       G      H  ...  _PolarizabilityD2050  \\\n",
      "0     0.000   0.000  18.182   0.000  9.091  ...                27.273   \n",
      "1     0.000   0.000   0.000   0.000  0.000  ...                50.000   \n",
      "2     0.000   4.348   0.000  17.391  4.348  ...                73.913   \n",
      "3     0.000   0.000   0.000   0.000  0.000  ...                 9.091   \n",
      "4     0.000   0.000   0.000   0.000  9.091  ...                18.182   \n",
      "...     ...     ...     ...     ...    ...  ...                   ...   \n",
      "1195  0.000  10.345   6.897   3.448  0.000  ...                48.276   \n",
      "1196  0.000   0.000   3.704  11.111  3.704  ...                44.444   \n",
      "1197  0.000   2.941   2.941   8.824  5.882  ...                50.000   \n",
      "1198  0.000   6.667   3.333   3.333  6.667  ...                33.333   \n",
      "1199  5.556   0.000   2.778  11.111  0.000  ...                41.667   \n",
      "\n",
      "      _PolarizabilityD2075  _PolarizabilityD2100  _PolarizabilityD3001  \\\n",
      "0                   36.364                81.818                18.182   \n",
      "1                   70.000                95.000                 5.000   \n",
      "2                   82.609                95.652                17.391   \n",
      "3                    9.091                45.455                18.182   \n",
      "4                   18.182                81.818                 9.091   \n",
      "...                    ...                   ...                   ...   \n",
      "1195                68.966               100.000                13.793   \n",
      "1196                70.370                96.296                25.926   \n",
      "1197                70.588                85.294                 2.941   \n",
      "1198                63.333                93.333                13.333   \n",
      "1199                61.111               100.000                 2.778   \n",
      "\n",
      "      _PolarizabilityD3025  _PolarizabilityD3050  _PolarizabilityD3075  \\\n",
      "0                   18.182                63.636                72.727   \n",
      "1                   20.000                45.000                65.000   \n",
      "2                   21.739                43.478                52.174   \n",
      "3                   27.273                54.545                72.727   \n",
      "4                   27.273                45.455                63.636   \n",
      "...                    ...                   ...                   ...   \n",
      "1195                13.793                58.621                62.069   \n",
      "1196                40.741                77.778                85.185   \n",
      "1197                 8.824                17.647                38.235   \n",
      "1198                23.333                46.667                76.667   \n",
      "1199                83.333                 2.778                72.222   \n",
      "\n",
      "      _PolarizabilityD3100      MIC  LABEL  \n",
      "0                  100.000    24.00      1  \n",
      "1                  100.000    32.00      1  \n",
      "2                   91.304   128.00      1  \n",
      "3                  100.000     8.00      1  \n",
      "4                  100.000    31.25      1  \n",
      "...                    ...      ...    ...  \n",
      "1195                86.207  8192.00      0  \n",
      "1196               100.000  8192.00      0  \n",
      "1197                67.647  8192.00      0  \n",
      "1198               100.000  8192.00      0  \n",
      "1199                83.333  8192.00      0  \n",
      "\n",
      "[1200 rows x 579 columns]\n"
     ]
    }
   ],
   "source": [
    "print(training_data_df)"
   ]
  },
  {
   "cell_type": "code",
   "execution_count": 5,
   "id": "0dc4aa8b",
   "metadata": {
    "ExecuteTime": {
     "end_time": "2024-03-23T17:05:37.742872Z",
     "start_time": "2024-03-23T17:05:37.734244Z"
    },
    "scrolled": true
   },
   "outputs": [
    {
     "name": "stdout",
     "output_type": "stream",
     "text": [
      "['_NormalizedVDWVC3', '_PolarizabilityC3', '_PolarityC3', '_PolarityC2', '_ChargeC1', '_ChargeT23', 'charge of all', '_ChargeD3100', 'negative_charge', '_ChargeC3', '_NormalizedVDWVD1100', 'KV', '_SolventAccessibilityT23', '_PolarizabilityT12', '_ChargeD3075', '_NormalizedVDWVT12', '_SolventAccessibilityC3', 'P', '_PolarizabilityD1100', 'GG', '_PolarityT13', '_HydrophobicityD2100']\n"
     ]
    }
   ],
   "source": [
    "# ascending=False，降序排列\n",
    "top_features = features_df.sort_values(by=\"Importance\", ascending=False).head(22)['Feature'].tolist()\n",
    "print(top_features)"
   ]
  },
  {
   "cell_type": "code",
   "execution_count": 6,
   "id": "535556b9",
   "metadata": {
    "ExecuteTime": {
     "end_time": "2024-03-23T17:05:38.185861Z",
     "start_time": "2024-03-23T17:05:38.161169Z"
    }
   },
   "outputs": [
    {
     "name": "stdout",
     "output_type": "stream",
     "text": [
      "      _NormalizedVDWVC3  _PolarizabilityC3  _PolarityC3  _PolarityC2  \\\n",
      "0                 0.545              0.545        0.273        0.182   \n",
      "1                 0.500              0.500        0.500        0.000   \n",
      "2                 0.391              0.391        0.217        0.087   \n",
      "3                 0.818              0.818        0.455        0.000   \n",
      "4                 0.818              0.818        0.545        0.000   \n",
      "...                 ...                ...          ...          ...   \n",
      "1195              0.172              0.172        0.103        0.207   \n",
      "1196              0.296              0.296        0.111        0.222   \n",
      "1197              0.265              0.265        0.147        0.235   \n",
      "1198              0.367              0.367        0.200        0.267   \n",
      "1199              0.083              0.083        0.056        0.139   \n",
      "\n",
      "      _ChargeC1  _ChargeT23  charge of all  _ChargeD3100  negative_charge  \\\n",
      "0         0.182       0.000              3         0.000                0   \n",
      "1         0.500       0.000             10         0.000                0   \n",
      "2         0.174       0.091              4        82.609                1   \n",
      "3         0.455       0.000              5         0.000                0   \n",
      "4         0.455       0.000              6         0.000                0   \n",
      "...         ...         ...            ...           ...              ...   \n",
      "1195      0.103       0.357             -2        79.310                5   \n",
      "1196      0.074       0.000              3         0.000                0   \n",
      "1197      0.088       0.242              0        88.235                5   \n",
      "1198      0.133       0.138              4        90.000                2   \n",
      "1199      0.056       0.114              0        97.222                2   \n",
      "\n",
      "      _ChargeC3  ...  _SolventAccessibilityT23  _PolarizabilityT12  \\\n",
      "0         0.000  ...                     0.000               0.000   \n",
      "1         0.000  ...                     0.000               0.000   \n",
      "2         0.043  ...                     0.091               0.227   \n",
      "3         0.000  ...                     0.000               0.000   \n",
      "4         0.000  ...                     0.100               0.000   \n",
      "...         ...  ...                       ...                 ...   \n",
      "1195      0.172  ...                     0.179               0.429   \n",
      "1196      0.000  ...                     0.154               0.385   \n",
      "1197      0.147  ...                     0.212               0.303   \n",
      "1198      0.067  ...                     0.172               0.241   \n",
      "1199      0.056  ...                     0.057               0.571   \n",
      "\n",
      "      _ChargeD3075  _NormalizedVDWVT12  _SolventAccessibilityC3       P  \\\n",
      "0            0.000               0.000                    0.091   0.000   \n",
      "1            0.000               0.000                    0.000   0.000   \n",
      "2           82.609               0.227                    0.174   0.000   \n",
      "3            0.000               0.000                    0.000   0.000   \n",
      "4            0.000               0.000                    0.091   0.000   \n",
      "...            ...                 ...                      ...     ...   \n",
      "1195        41.379               0.429                    0.172   3.448   \n",
      "1196         0.000               0.308                    0.333   3.704   \n",
      "1197        64.706               0.333                    0.294   8.824   \n",
      "1198         6.667               0.172                    0.300   6.667   \n",
      "1199        55.556               0.343                    0.278  11.111   \n",
      "\n",
      "      _PolarizabilityD1100   GG  _PolarityT13  _HydrophobicityD2100  \n",
      "0                    0.000  0.0         0.400                54.545  \n",
      "1                    0.000  0.0         0.526                 0.000  \n",
      "2                  100.000  0.0         0.136               100.000  \n",
      "3                    0.000  0.0         0.600                 0.000  \n",
      "4                    0.000  0.0         0.600                72.727  \n",
      "...                    ...  ...           ...                   ...  \n",
      "1195                96.552  0.0         0.036                96.552  \n",
      "1196                66.667  0.0         0.115                81.481  \n",
      "1197               100.000  0.0         0.030               100.000  \n",
      "1198                86.667  0.0         0.103                86.667  \n",
      "1199                97.222  0.0         0.029                94.444  \n",
      "\n",
      "[1200 rows x 22 columns]\n",
      "-------------------------------------------------------------------------\n",
      "[[ 1.53270189  1.53270189  0.84450658 ... -0.32850554  1.99400138\n",
      "  -1.71844893]\n",
      " [ 1.27416913  1.27416913  2.68231179 ... -0.32850554  2.90712402\n",
      "  -4.47082403]\n",
      " [ 0.64794534  0.64794534  0.39112732 ... -0.32850554  0.08079203\n",
      "   0.57523904]\n",
      " ...\n",
      " [-0.07594639 -0.07594639 -0.17559676 ... -0.32850554 -0.68739051\n",
      "   0.57523904]\n",
      " [ 0.5100612   0.5100612   0.25349433 ... -0.32850554 -0.15835914\n",
      "  -0.09755255]\n",
      " [-1.12156778 -1.12156778 -0.91233805 ... -0.32850554 -0.69463752\n",
      "   0.29487977]]\n"
     ]
    }
   ],
   "source": [
    "# 从原始数据集中获得前22的列\n",
    "selected_columns = training_data_df[top_features]\n",
    "print(selected_columns)\n",
    "print('-------------------------------------------------------------------------')\n",
    "# 初始化标准化器\n",
    "scaler = StandardScaler()\n",
    "# 对每一列数据进行标准化\n",
    "selected_columns_standardized = scaler.fit_transform(selected_columns)\n",
    "print(selected_columns_standardized)"
   ]
  },
  {
   "cell_type": "code",
   "execution_count": 7,
   "id": "7e3c1448",
   "metadata": {
    "ExecuteTime": {
     "end_time": "2024-03-23T17:05:38.731105Z",
     "start_time": "2024-03-23T17:05:38.715788Z"
    }
   },
   "outputs": [],
   "source": [
    "# 获取应变量标签\n",
    "y = training_data_df[\"MIC\"]\n",
    "y = np.log(y)\n",
    "# 初始化线性回归模型\n",
    "linear_regressor = LinearRegression()"
   ]
  },
  {
   "cell_type": "code",
   "execution_count": 8,
   "id": "caf07905",
   "metadata": {
    "ExecuteTime": {
     "end_time": "2024-03-23T17:05:39.651089Z",
     "start_time": "2024-03-23T17:05:39.630807Z"
    },
    "scrolled": true
   },
   "outputs": [
    {
     "name": "stdout",
     "output_type": "stream",
     "text": [
      "[[-0.27128226 -0.27128226 -0.11892435 ...  3.77647904  0.30544919\n",
      "   0.57523904]\n",
      " [-0.24830157 -0.24830157 -0.73422477 ... -0.32850554 -0.75986056\n",
      "   0.57523904]\n",
      " [-0.85728985 -0.85728985 -1.10664345 ... -0.32850554 -0.6656495\n",
      "   0.08693151]\n",
      " ...\n",
      " [ 0.45260947  0.45260947  0.36683914 ... -0.32850554  1.8852963\n",
      "   0.21479875]\n",
      " [ 0.09066361  0.09066361  0.05918893 ... -0.32850554 -0.45548635\n",
      "   0.57523904]\n",
      " [ 0.36068671  0.36068671 -0.18369281 ... -0.32850554 -0.18010016\n",
      "   0.32909208]]\n",
      "867     9.010913\n",
      "741     9.010913\n",
      "467     9.010913\n",
      "442     9.010913\n",
      "610     9.010913\n",
      "          ...   \n",
      "1033    9.010913\n",
      "763     9.010913\n",
      "835     9.010913\n",
      "559     9.010913\n",
      "684     9.010913\n",
      "Name: MIC, Length: 960, dtype: float64\n"
     ]
    }
   ],
   "source": [
    "# 划分数据集和测试集\n",
    "X_train, X_test, y_train, y_test = train_test_split(selected_columns_standardized, y, test_size=0.2, random_state=0)\n",
    "\n",
    "print(X_train)\n",
    "print(y_train)"
   ]
  },
  {
   "cell_type": "code",
   "execution_count": 15,
   "id": "b8ed32ab",
   "metadata": {
    "ExecuteTime": {
     "end_time": "2024-03-23T17:07:03.385568Z",
     "start_time": "2024-03-23T17:07:03.368995Z"
    }
   },
   "outputs": [],
   "source": [
    "# 拟合模型\n",
    "linear_regressor.fit(X_train, y_train)\n",
    "\n",
    "# 预测模型\n",
    "y_pred = linear_regressor.predict(X_test)"
   ]
  },
  {
   "cell_type": "code",
   "execution_count": 16,
   "id": "b73b489d",
   "metadata": {
    "ExecuteTime": {
     "end_time": "2024-03-23T17:07:03.822234Z",
     "start_time": "2024-03-23T17:07:03.810877Z"
    }
   },
   "outputs": [
    {
     "name": "stdout",
     "output_type": "stream",
     "text": [
      "Mean Squared Error: 2.1415673579657866\n",
      "Mean Absolute Error: 1.0497101862856284\n",
      "R-squared: 0.5897879900332337\n"
     ]
    }
   ],
   "source": [
    "# 计算回归分析的评估指标\n",
    "mse = mean_squared_error(y_test, y_pred)\n",
    "mae = mean_absolute_error(y_test, y_pred)\n",
    "r2 = r2_score(y_test, y_pred)\n",
    "\n",
    "# 打印结果\n",
    "print(f\"Mean Squared Error: {mse}\")\n",
    "print(f\"Mean Absolute Error: {mae}\")\n",
    "print(f\"R-squared: {r2}\")"
   ]
  },
  {
   "cell_type": "code",
   "execution_count": 17,
   "id": "b8bc5ed6",
   "metadata": {
    "ExecuteTime": {
     "end_time": "2024-03-23T17:07:04.623271Z",
     "start_time": "2024-03-23T17:07:04.613029Z"
    }
   },
   "outputs": [
    {
     "name": "stdout",
     "output_type": "stream",
     "text": [
      "_NormalizedVDWVC3: -0.18672530022460745\n",
      "_PolarizabilityC3: -0.18672530022460765\n",
      "_PolarityC3: -0.09094217345653402\n",
      "_PolarityC2: -0.1382683231080245\n",
      "_ChargeC1: -0.39660736362343896\n",
      "_ChargeT23: 0.10367317077710242\n",
      "charge of all: -0.24561202983128402\n",
      "_ChargeD3100: 0.7222167684652765\n",
      "negative_charge: -0.14783281278350946\n",
      "_ChargeC3: -0.01175400502030527\n",
      "_NormalizedVDWVD1100: 0.7097411717857232\n",
      "KV: -0.09138083352269531\n",
      "_SolventAccessibilityT23: 0.3058092185076527\n",
      "_PolarizabilityT12: 0.19186229187757647\n",
      "_ChargeD3075: -0.2337445011350737\n",
      "_NormalizedVDWVT12: -0.18407712583934407\n",
      "_SolventAccessibilityC3: 0.05743295251772224\n",
      "P: 0.16621871194970772\n",
      "_PolarizabilityD1100: -0.38968085405117764\n",
      "GG: -0.14787282840567967\n",
      "_PolarityT13: -0.34676108978083564\n",
      "_HydrophobicityD2100: -0.051964695068785\n"
     ]
    }
   ],
   "source": [
    "# 获取特征系数\n",
    "coefficients = linear_regressor.coef_\n",
    "coefficients_df = pd.DataFrame({'Feature': top_features, 'Coefficient': coefficients})\n",
    "# 按照系数降序排列\n",
    "coefficients_df = coefficients_df.sort_values(by='Coefficient', ascending=False)\n",
    "# 打印每个特征的系数\n",
    "for feature, coef in zip(top_features, coefficients):\n",
    "    print(f\"{feature}: {coef}\")"
   ]
  },
  {
   "cell_type": "code",
   "execution_count": 18,
   "id": "592f414f",
   "metadata": {
    "ExecuteTime": {
     "end_time": "2024-03-23T17:07:56.492326Z",
     "start_time": "2024-03-23T17:07:56.481509Z"
    }
   },
   "outputs": [],
   "source": [
    "coefficients_df.to_csv(\"C:/Users/Lenovo/Desktop/new_study/CNS/output/RandomForest_regression_coefficients.csv\", index=False) #不将 DataFrame 的索引写入到 CSV 文件。"
   ]
  },
  {
   "cell_type": "code",
   "execution_count": 19,
   "id": "3e7abc29",
   "metadata": {
    "ExecuteTime": {
     "end_time": "2024-03-23T17:08:08.353672Z",
     "start_time": "2024-03-23T17:08:08.093698Z"
    }
   },
   "outputs": [
    {
     "data": {
      "image/png": "[encoded data removed]",
      "text/plain": [
       "<Figure size 1000x800 with 1 Axes>"
      ]
     },
     "metadata": {},
     "output_type": "display_data"
    }
   ],
   "source": [
    "# 按照Coefficient列排序，大的值在上面\n",
    "coefficients_df = coefficients_df.sort_values(by='Coefficient', ascending=False)\n",
    "\n",
    "# 设置图形大小\n",
    "plt.figure(figsize=(10, 8))\n",
    "\n",
    "# 为正负系数分配颜色\n",
    "colors = ['b' if coef > 0 else 'r' for coef in coefficients_df['Coefficient']]\n",
    "\n",
    "# 使用seaborn的barplot函数创建一个横向的柱状图，加入颜色映射\n",
    "sns.barplot(x='Coefficient', y='Feature', data=coefficients_df, palette=colors)\n",
    "\n",
    "plt.title('Linear Regression Coefficients', fontsize=20)\n",
    "plt.xlabel('Coefficient Value', fontsize=15)\n",
    "plt.ylabel('Feature', fontsize=15)\n",
    "plt.xticks(fontsize=12)\n",
    "plt.yticks(fontsize=12)\n",
    "\n",
    "# 自动调整布局\n",
    "plt.tight_layout()\n",
    "\n",
    "plt.savefig(\"C:/Users/Lenovo/Desktop/new_study/CNS/output/RandomForest_regression_coefficients_figures.png\")\n",
    "\n",
    "# 显示图形\n",
    "plt.show()"
   ]
  },
  {
   "cell_type": "code",
   "execution_count": 20,
   "id": "7efd40e3",
   "metadata": {
    "ExecuteTime": {
     "end_time": "2024-03-23T17:08:10.982226Z",
     "start_time": "2024-03-23T17:08:10.973939Z"
    }
   },
   "outputs": [
    {
     "name": "stdout",
     "output_type": "stream",
     "text": [
      "7.889348059806732\n",
      "y = 0.7222167684652765 * _ChargeD3100 + 0.7097411717857232 * _NormalizedVDWVD1100 + 0.3058092185076527 * _SolventAccessibilityT23 + 0.19186229187757647 * _PolarizabilityT12 + 0.16621871194970772 * P + 0.10367317077710242 * _ChargeT23 + 0.05743295251772224 * _SolventAccessibilityC3 + -0.01175400502030527 * _ChargeC3 + -0.051964695068785 * _HydrophobicityD2100 + -0.09094217345653402 * _PolarityC3 + -0.09138083352269531 * KV + -0.1382683231080245 * _PolarityC2 + -0.14783281278350946 * negative_charge + -0.14787282840567967 * GG + -0.18407712583934407 * _NormalizedVDWVT12 + -0.18672530022460745 * _NormalizedVDWVC3 + -0.18672530022460765 * _PolarizabilityC3 + -0.2337445011350737 * _ChargeD3075 + -0.24561202983128402 * charge of all + -0.34676108978083564 * _PolarityT13 + -0.38968085405117764 * _PolarizabilityD1100 + -0.39660736362343896 * _ChargeC1 + 7.889348059806732\n"
     ]
    }
   ],
   "source": [
    "#获得截距\n",
    "intercept = linear_regressor.intercept_\n",
    "print(intercept)\n",
    "intercept_term = f\"{intercept}\"\n",
    "# 构建线性回归方程\n",
    "equation = \" + \".join(f\"{row['Coefficient']} * {row['Feature']}\" for index, row in coefficients_df.iterrows())\n",
    "linear_regression_expression = f\"y = {equation} + {intercept_term}\"\n",
    "print(linear_regression_expression)"
   ]
  },
  {
   "cell_type": "code",
   "execution_count": 21,
   "id": "66671539",
   "metadata": {
    "ExecuteTime": {
     "end_time": "2024-03-23T17:08:13.256393Z",
     "start_time": "2024-03-23T17:08:13.238266Z"
    }
   },
   "outputs": [],
   "source": [
    "# 使用生成的表达式进行回归值的预测\n",
    "def predict_regression_value(features, coefficients):\n",
    "    return features @ coefficients + intercept\n",
    "\n",
    "selected_regression_features = coefficients_df['Feature'].tolist()\n",
    "selected_regression_features_value = training_data_df[selected_regression_features]\n",
    "coefficients_list = coefficients_df['Coefficient'].tolist()\n",
    "coefficients_array = np.array(coefficients_list)\n",
    "\n",
    "# 初始化标准化器\n",
    "scaler = StandardScaler()\n",
    "# 对每一列数据进行标准化\n",
    "selected_regression_features_value_standardized = scaler.fit_transform(selected_regression_features_value)\n",
    "#print(selected_regression_features_value)\n",
    "#print(selected_regression_features_value_standardized)\n"
   ]
  },
  {
   "cell_type": "code",
   "execution_count": 22,
   "id": "9a860538",
   "metadata": {
    "ExecuteTime": {
     "end_time": "2024-03-23T17:08:14.964723Z",
     "start_time": "2024-03-23T17:08:14.947010Z"
    }
   },
   "outputs": [
    {
     "name": "stdout",
     "output_type": "stream",
     "text": [
      "          Value\n",
      "0      3.893671\n",
      "1      2.297115\n",
      "2      7.598961\n",
      "3      1.958565\n",
      "4      2.006330\n",
      "...         ...\n",
      "1195   9.280535\n",
      "1196   7.299332\n",
      "1197   9.344056\n",
      "1198   8.756788\n",
      "1199  10.206209\n",
      "\n",
      "[1200 rows x 1 columns]\n"
     ]
    }
   ],
   "source": [
    "predicted_regression_value = predict_regression_value(selected_regression_features_value_standardized, coefficients_array)\n",
    "\n",
    "\n",
    "predicted_regression_value_df = pd.DataFrame({'Value':predicted_regression_value})\n",
    "print(predicted_regression_value_df)\n",
    "#predicted_regression_true_value = np.power(10,predicted_regression_value)\n",
    "#print(f\"Predicted Regression True Value: \")\n",
    "#print(predicted_regression_true_value)\n",
    "#predicted_regression_true_value.to_csv(\"C:/Users/Lenovo/Desktop/regression_value.csv\",index=False)"
   ]
  },
  {
   "cell_type": "code",
   "execution_count": 23,
   "id": "64a513cf",
   "metadata": {
    "ExecuteTime": {
     "end_time": "2024-03-23T17:08:18.948256Z",
     "start_time": "2024-03-23T17:08:18.937243Z"
    }
   },
   "outputs": [
    {
     "name": "stdout",
     "output_type": "stream",
     "text": [
      "        Value  LABEL\n",
      "0    3.893671      1\n",
      "1    2.297115      1\n",
      "2    7.598961      1\n",
      "3    1.958565      1\n",
      "4    2.006330      1\n",
      "..        ...    ...\n",
      "201  2.485103      1\n",
      "202  2.762249      1\n",
      "203  4.878134      1\n",
      "204  2.762249      1\n",
      "205  3.143593      1\n",
      "\n",
      "[206 rows x 2 columns]\n",
      "          Value  LABEL\n",
      "206    8.914087      0\n",
      "207    7.740855      0\n",
      "208    9.632609      0\n",
      "209    8.106923      0\n",
      "210    9.201877      0\n",
      "...         ...    ...\n",
      "1195   9.280535      0\n",
      "1196   7.299332      0\n",
      "1197   9.344056      0\n",
      "1198   8.756788      0\n",
      "1199  10.206209      0\n",
      "\n",
      "[994 rows x 2 columns]\n"
     ]
    }
   ],
   "source": [
    "# 从原始数据集中获取LABEL\n",
    "LABEL_values = pd.DataFrame({'LABEL':training_data_df['LABEL']})\n",
    "# print(LABEL_values)\n",
    "# 合并两个DataFrame\n",
    "merged_df = pd.concat([predicted_regression_value_df, LABEL_values], axis=1)\n",
    "\n",
    "# 划分两类\n",
    "AMP_predicted = merged_df[merged_df['LABEL'] == 1]\n",
    "NON_AMP_predicted = merged_df[merged_df['LABEL'] == 0]\n",
    "\n",
    "#扔掉非零项\n",
    "AMP_predicted_clean = AMP_predicted.dropna()\n",
    "NON_AMP_predicted_clean = NON_AMP_predicted.dropna()\n",
    "\n",
    "# 求\"Value\"列的平均值\n",
    "average_value = AMP_predicted_clean['Value'].mean()\n",
    "\n",
    "print(AMP_predicted_clean)\n",
    "print(NON_AMP_predicted_clean)\n",
    "#print(average_value)"
   ]
  },
  {
   "cell_type": "code",
   "execution_count": 24,
   "id": "2e027e26",
   "metadata": {
    "ExecuteTime": {
     "end_time": "2024-03-23T17:08:33.010531Z",
     "start_time": "2024-03-23T17:08:32.874342Z"
    }
   },
   "outputs": [
    {
     "data": {
      "image/png": "[encoded data removed]",
      "text/plain": [
       "<Figure size 800x600 with 1 Axes>"
      ]
     },
     "metadata": {},
     "output_type": "display_data"
    }
   ],
   "source": [
    "# 合并两个DataFrame\n",
    "merged_final_df = pd.concat([AMP_predicted_clean, NON_AMP_predicted_clean], ignore_index=True)\n",
    "merged_final_df['LABEL'] = merged_final_df['LABEL'].replace({0: 'Non-AMP', 1: 'AMP'})\n",
    "# 使用Seaborn绘制箱线图\n",
    "plt.figure(figsize=(8, 6))\n",
    "sns.boxplot(x='LABEL', y='Value', hue='LABEL', data=merged_final_df)\n",
    "plt.title('Mapping without Translation')\n",
    "\n",
    "plt.savefig(\"C:/Users/Lenovo/Desktop/new_study/CNS/output/RandomForest_regression_boxplot_figures.png\")\n",
    "\n",
    "plt.show()"
   ]
  },
  {
   "cell_type": "code",
   "execution_count": 25,
   "id": "8770e2d8",
   "metadata": {
    "ExecuteTime": {
     "end_time": "2024-03-23T17:08:36.365209Z",
     "start_time": "2024-03-23T17:08:36.351487Z"
    },
    "scrolled": true
   },
   "outputs": [
    {
     "name": "stdout",
     "output_type": "stream",
     "text": [
      "         Value\n",
      "0     0.924370\n",
      "1     0.983695\n",
      "2     0.231114\n",
      "3     0.988323\n",
      "4     0.987758\n",
      "...        ...\n",
      "1195  0.052970\n",
      "1196  0.288557\n",
      "1197  0.049873\n",
      "1198  0.086285\n",
      "1199  0.021684\n",
      "\n",
      "[1200 rows x 1 columns]\n"
     ]
    }
   ],
   "source": [
    "def sig(x):\n",
    "    return 1/(1 + np.exp((x - np.log(600))))\n",
    "\n",
    "\n",
    "# 使用 sig 函数映射到 0-1 范围\n",
    "transformed_values = sig(predicted_regression_value)\n",
    "transformed_values_df = pd.DataFrame({'Value':transformed_values})\n",
    "\n",
    "print(transformed_values_df)"
   ]
  },
  {
   "cell_type": "code",
   "execution_count": 26,
   "id": "02f20d42",
   "metadata": {
    "ExecuteTime": {
     "end_time": "2024-03-23T17:08:36.912994Z",
     "start_time": "2024-03-23T17:08:36.894261Z"
    }
   },
   "outputs": [
    {
     "name": "stdout",
     "output_type": "stream",
     "text": [
      "      LABEL\n",
      "0         1\n",
      "1         1\n",
      "2         1\n",
      "3         1\n",
      "4         1\n",
      "...     ...\n",
      "1195      0\n",
      "1196      0\n",
      "1197      0\n",
      "1198      0\n",
      "1199      0\n",
      "\n",
      "[1200 rows x 1 columns]\n"
     ]
    }
   ],
   "source": [
    "# 从原始数据集中获取LABEL\n",
    "LABEL_values = pd.DataFrame({'LABEL':training_data_df['LABEL']})\n",
    "print(LABEL_values)"
   ]
  },
  {
   "cell_type": "code",
   "execution_count": 27,
   "id": "019bb33d",
   "metadata": {
    "ExecuteTime": {
     "end_time": "2024-03-23T17:08:38.764641Z",
     "start_time": "2024-03-23T17:08:38.744615Z"
    }
   },
   "outputs": [
    {
     "name": "stdout",
     "output_type": "stream",
     "text": [
      "        Value  LABEL\n",
      "0    0.924370      1\n",
      "1    0.983695      1\n",
      "2    0.231114      1\n",
      "3    0.988323      1\n",
      "4    0.987758      1\n",
      "..        ...    ...\n",
      "201  0.980388      1\n",
      "202  0.974286      1\n",
      "203  0.820361      1\n",
      "204  0.974286      1\n",
      "205  0.962793      1\n",
      "\n",
      "[206 rows x 2 columns]\n",
      "         Value  LABEL\n",
      "206   0.074664      0\n",
      "207   0.206865      0\n",
      "208   0.037845      0\n",
      "209   0.153165      0\n",
      "210   0.057057      0\n",
      "...        ...    ...\n",
      "1195  0.052970      0\n",
      "1196  0.288557      0\n",
      "1197  0.049873      0\n",
      "1198  0.086285      0\n",
      "1199  0.021684      0\n",
      "\n",
      "[994 rows x 2 columns]\n"
     ]
    }
   ],
   "source": [
    "# 合并两个DataFrame\n",
    "merged_df = pd.concat([transformed_values_df, LABEL_values], axis=1)\n",
    "\n",
    "# 划分两类\n",
    "AMP_predicted = merged_df[merged_df['LABEL'] == 1]\n",
    "NON_AMP_predicted = merged_df[merged_df['LABEL'] == 0]\n",
    "\n",
    "AMP_predicted_clean = AMP_predicted.dropna()\n",
    "NON_AMP_predicted_clean = NON_AMP_predicted.dropna()\n",
    "\n",
    "# 求\"Value\"列的平均值\n",
    "average_value = AMP_predicted_clean['Value'].mean()\n",
    "\n",
    "print(AMP_predicted_clean)\n",
    "print(NON_AMP_predicted_clean)\n",
    "#print(average_value)"
   ]
  },
  {
   "cell_type": "code",
   "execution_count": 28,
   "id": "b1a610ad",
   "metadata": {
    "ExecuteTime": {
     "end_time": "2024-03-23T17:08:48.839652Z",
     "start_time": "2024-03-23T17:08:48.705141Z"
    }
   },
   "outputs": [
    {
     "data": {
      "image/png": "[encoded data removed]",
      "text/plain": [
       "<Figure size 800x600 with 1 Axes>"
      ]
     },
     "metadata": {},
     "output_type": "display_data"
    }
   ],
   "source": [
    "# 合并两个DataFrame\n",
    "merged_final_df = pd.concat([AMP_predicted_clean, NON_AMP_predicted_clean], ignore_index=True)\n",
    "merged_final_df['LABEL'] = merged_final_df['LABEL'].replace({0: 'Non-AMP', 1: 'AMP'})\n",
    "# 使用Seaborn绘制箱线图\n",
    "plt.figure(figsize=(8, 6))\n",
    "sns.boxplot(x='LABEL', y='Value', hue='LABEL',data=merged_final_df)\n",
    "plt.title('Mapping After Sigmod Function Translation')\n",
    "\n",
    "plt.savefig(\"C:/Users/Lenovo/Desktop/new_study/CNS/output/RandomForest_regression_boxplot_figures_sofmaxrepaired.png\")\n",
    "\n",
    "plt.show()"
   ]
  },
  {
   "cell_type": "code",
   "execution_count": null,
   "id": "cba238a1",
   "metadata": {},
   "outputs": [],
   "source": []
  }
 ],
 "metadata": {
  "kernelspec": {
   "display_name": "basic",
   "language": "python",
   "name": "basic"
  },
  "language_info": {
   "codemirror_mode": {
    "name": "ipython",
    "version": 3
   },
   "file_extension": ".py",
   "mimetype": "text/x-python",
   "name": "python",
   "nbconvert_exporter": "python",
   "pygments_lexer": "ipython3",
   "version": "3.7.1"
  },
  "toc": {
   "base_numbering": 1,
   "nav_menu": {},
   "number_sections": true,
   "sideBar": true,
   "skip_h1_title": false,
   "title_cell": "Table of Contents",
   "title_sidebar": "Contents",
   "toc_cell": false,
   "toc_position": {},
   "toc_section_display": true,
   "toc_window_display": false
  },
  "varInspector": {
   "cols": {
    "lenName": 16,
    "lenType": 16,
    "lenVar": 40
   },
   "kernels_config": {
    "python": {
     "delete_cmd_postfix": "",
     "delete_cmd_prefix": "del ",
     "library": "var_list.py",
     "varRefreshCmd": "print(var_dic_list())"
    },
    "r": {
     "delete_cmd_postfix": ") ",
     "delete_cmd_prefix": "rm(",
     "library": "var_list.r",
     "varRefreshCmd": "cat(var_dic_list()) "
    }
   },
   "types_to_exclude": [
    "module",
    "function",
    "builtin_function_or_method",
    "instance",
    "_Feature"
   ],
   "window_display": false
  }
 },
 "nbformat": 4,
 "nbformat_minor": 5
}
