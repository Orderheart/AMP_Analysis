{
 "cells": [
  {
   "cell_type": "code",
   "execution_count": 1,
   "id": "8bdbed80",
   "metadata": {
    "ExecuteTime": {
     "end_time": "2024-03-20T15:13:20.423468Z",
     "start_time": "2024-03-20T15:13:19.618544Z"
    }
   },
   "outputs": [],
   "source": [
    "from scipy.stats import mannwhitneyu\n",
    "import pandas as pd \n",
    "import numpy as np\n",
    "import scipy.stats as stasts\n",
    "\n",
    "# 读取CSV文件\n",
    "csv_file_path = \"C:/Users/Lenovo/Desktop/new_study/CNS/data/ASP.csv\"  # CSV文件路径\n",
    "df = pd.read_csv(csv_file_path)"
   ]
  },
  {
   "cell_type": "code",
   "execution_count": 2,
   "id": "e660b4c7",
   "metadata": {
    "ExecuteTime": {
     "end_time": "2024-03-20T15:13:20.441806Z",
     "start_time": "2024-03-20T15:13:20.423468Z"
    },
    "code_folding": []
   },
   "outputs": [
    {
     "data": {
      "text/html": [
       "<div>\n",
       "<style scoped>\n",
       "    .dataframe tbody tr th:only-of-type {\n",
       "        vertical-align: middle;\n",
       "    }\n",
       "\n",
       "    .dataframe tbody tr th {\n",
       "        vertical-align: top;\n",
       "    }\n",
       "\n",
       "    .dataframe thead th {\n",
       "        text-align: right;\n",
       "    }\n",
       "</style>\n",
       "<table border=\"1\" class=\"dataframe\">\n",
       "  <thead>\n",
       "    <tr style=\"text-align: right;\">\n",
       "      <th></th>\n",
       "      <th>SEQUENCE</th>\n",
       "      <th>A</th>\n",
       "      <th>R</th>\n",
       "      <th>N</th>\n",
       "      <th>D</th>\n",
       "      <th>C</th>\n",
       "      <th>E</th>\n",
       "      <th>Q</th>\n",
       "      <th>G</th>\n",
       "      <th>H</th>\n",
       "      <th>...</th>\n",
       "      <th>_PolarizabilityD2050</th>\n",
       "      <th>_PolarizabilityD2075</th>\n",
       "      <th>_PolarizabilityD2100</th>\n",
       "      <th>_PolarizabilityD3001</th>\n",
       "      <th>_PolarizabilityD3025</th>\n",
       "      <th>_PolarizabilityD3050</th>\n",
       "      <th>_PolarizabilityD3075</th>\n",
       "      <th>_PolarizabilityD3100</th>\n",
       "      <th>MIC</th>\n",
       "      <th>LABEL</th>\n",
       "    </tr>\n",
       "  </thead>\n",
       "  <tbody>\n",
       "    <tr>\n",
       "      <th>0</th>\n",
       "      <td>IKQLLHFFQRF</td>\n",
       "      <td>0.000</td>\n",
       "      <td>9.091</td>\n",
       "      <td>0.000</td>\n",
       "      <td>0.0</td>\n",
       "      <td>0.0</td>\n",
       "      <td>0.000</td>\n",
       "      <td>18.182</td>\n",
       "      <td>0.000</td>\n",
       "      <td>9.091</td>\n",
       "      <td>...</td>\n",
       "      <td>27.273</td>\n",
       "      <td>36.364</td>\n",
       "      <td>81.818</td>\n",
       "      <td>18.182</td>\n",
       "      <td>18.182</td>\n",
       "      <td>63.636</td>\n",
       "      <td>72.727</td>\n",
       "      <td>100.000</td>\n",
       "      <td>24.00</td>\n",
       "      <td>1</td>\n",
       "    </tr>\n",
       "    <tr>\n",
       "      <th>1</th>\n",
       "      <td>RLLRRLLRRLLRRLLRRLLR</td>\n",
       "      <td>0.000</td>\n",
       "      <td>50.000</td>\n",
       "      <td>0.000</td>\n",
       "      <td>0.0</td>\n",
       "      <td>0.0</td>\n",
       "      <td>0.000</td>\n",
       "      <td>0.000</td>\n",
       "      <td>0.000</td>\n",
       "      <td>0.000</td>\n",
       "      <td>...</td>\n",
       "      <td>50.000</td>\n",
       "      <td>70.000</td>\n",
       "      <td>95.000</td>\n",
       "      <td>5.000</td>\n",
       "      <td>20.000</td>\n",
       "      <td>45.000</td>\n",
       "      <td>65.000</td>\n",
       "      <td>100.000</td>\n",
       "      <td>32.00</td>\n",
       "      <td>1</td>\n",
       "    </tr>\n",
       "    <tr>\n",
       "      <th>2</th>\n",
       "      <td>GIGKFLHSAKKFGKAFVGEIMNS</td>\n",
       "      <td>8.696</td>\n",
       "      <td>0.000</td>\n",
       "      <td>4.348</td>\n",
       "      <td>0.0</td>\n",
       "      <td>0.0</td>\n",
       "      <td>4.348</td>\n",
       "      <td>0.000</td>\n",
       "      <td>17.391</td>\n",
       "      <td>4.348</td>\n",
       "      <td>...</td>\n",
       "      <td>73.913</td>\n",
       "      <td>82.609</td>\n",
       "      <td>95.652</td>\n",
       "      <td>17.391</td>\n",
       "      <td>21.739</td>\n",
       "      <td>43.478</td>\n",
       "      <td>52.174</td>\n",
       "      <td>91.304</td>\n",
       "      <td>128.00</td>\n",
       "      <td>1</td>\n",
       "    </tr>\n",
       "    <tr>\n",
       "      <th>3</th>\n",
       "      <td>LKRFLKWFKRF</td>\n",
       "      <td>0.000</td>\n",
       "      <td>18.182</td>\n",
       "      <td>0.000</td>\n",
       "      <td>0.0</td>\n",
       "      <td>0.0</td>\n",
       "      <td>0.000</td>\n",
       "      <td>0.000</td>\n",
       "      <td>0.000</td>\n",
       "      <td>0.000</td>\n",
       "      <td>...</td>\n",
       "      <td>9.091</td>\n",
       "      <td>9.091</td>\n",
       "      <td>45.455</td>\n",
       "      <td>18.182</td>\n",
       "      <td>27.273</td>\n",
       "      <td>54.545</td>\n",
       "      <td>72.727</td>\n",
       "      <td>100.000</td>\n",
       "      <td>8.00</td>\n",
       "      <td>1</td>\n",
       "    </tr>\n",
       "    <tr>\n",
       "      <th>4</th>\n",
       "      <td>KLFKRWKHLFR</td>\n",
       "      <td>0.000</td>\n",
       "      <td>18.182</td>\n",
       "      <td>0.000</td>\n",
       "      <td>0.0</td>\n",
       "      <td>0.0</td>\n",
       "      <td>0.000</td>\n",
       "      <td>0.000</td>\n",
       "      <td>0.000</td>\n",
       "      <td>9.091</td>\n",
       "      <td>...</td>\n",
       "      <td>18.182</td>\n",
       "      <td>18.182</td>\n",
       "      <td>81.818</td>\n",
       "      <td>9.091</td>\n",
       "      <td>27.273</td>\n",
       "      <td>45.455</td>\n",
       "      <td>63.636</td>\n",
       "      <td>100.000</td>\n",
       "      <td>31.25</td>\n",
       "      <td>1</td>\n",
       "    </tr>\n",
       "  </tbody>\n",
       "</table>\n",
       "<p>5 rows × 579 columns</p>\n",
       "</div>"
      ],
      "text/plain": [
       "                  SEQUENCE      A       R      N    D    C      E       Q  \\\n",
       "0              IKQLLHFFQRF  0.000   9.091  0.000  0.0  0.0  0.000  18.182   \n",
       "1     RLLRRLLRRLLRRLLRRLLR  0.000  50.000  0.000  0.0  0.0  0.000   0.000   \n",
       "2  GIGKFLHSAKKFGKAFVGEIMNS  8.696   0.000  4.348  0.0  0.0  4.348   0.000   \n",
       "3              LKRFLKWFKRF  0.000  18.182  0.000  0.0  0.0  0.000   0.000   \n",
       "4              KLFKRWKHLFR  0.000  18.182  0.000  0.0  0.0  0.000   0.000   \n",
       "\n",
       "        G      H  ...  _PolarizabilityD2050  _PolarizabilityD2075  \\\n",
       "0   0.000  9.091  ...                27.273                36.364   \n",
       "1   0.000  0.000  ...                50.000                70.000   \n",
       "2  17.391  4.348  ...                73.913                82.609   \n",
       "3   0.000  0.000  ...                 9.091                 9.091   \n",
       "4   0.000  9.091  ...                18.182                18.182   \n",
       "\n",
       "   _PolarizabilityD2100  _PolarizabilityD3001  _PolarizabilityD3025  \\\n",
       "0                81.818                18.182                18.182   \n",
       "1                95.000                 5.000                20.000   \n",
       "2                95.652                17.391                21.739   \n",
       "3                45.455                18.182                27.273   \n",
       "4                81.818                 9.091                27.273   \n",
       "\n",
       "   _PolarizabilityD3050  _PolarizabilityD3075  _PolarizabilityD3100     MIC  \\\n",
       "0                63.636                72.727               100.000   24.00   \n",
       "1                45.000                65.000               100.000   32.00   \n",
       "2                43.478                52.174                91.304  128.00   \n",
       "3                54.545                72.727               100.000    8.00   \n",
       "4                45.455                63.636               100.000   31.25   \n",
       "\n",
       "   LABEL  \n",
       "0      1  \n",
       "1      1  \n",
       "2      1  \n",
       "3      1  \n",
       "4      1  \n",
       "\n",
       "[5 rows x 579 columns]"
      ]
     },
     "execution_count": 2,
     "metadata": {},
     "output_type": "execute_result"
    }
   ],
   "source": [
    "#显示前几行\n",
    "df.head() "
   ]
  },
  {
   "cell_type": "code",
   "execution_count": 3,
   "id": "29c21d67",
   "metadata": {
    "ExecuteTime": {
     "end_time": "2024-03-20T15:13:20.448123Z",
     "start_time": "2024-03-20T15:13:20.441806Z"
    },
    "code_folding": []
   },
   "outputs": [
    {
     "name": "stdout",
     "output_type": "stream",
     "text": [
      "Index(['SEQUENCE', 'A', 'R', 'N', 'D', 'C', 'E', 'Q', 'G', 'H',\n",
      "       ...\n",
      "       '_PolarizabilityD2050', '_PolarizabilityD2075', '_PolarizabilityD2100',\n",
      "       '_PolarizabilityD3001', '_PolarizabilityD3025', '_PolarizabilityD3050',\n",
      "       '_PolarizabilityD3075', '_PolarizabilityD3100', 'MIC', 'LABEL'],\n",
      "      dtype='object', length=579)\n"
     ]
    }
   ],
   "source": [
    "# 获取数据框中的列名\n",
    "columns = df.columns\n",
    "print(columns)"
   ]
  },
  {
   "cell_type": "code",
   "execution_count": 4,
   "id": "62ed3b46",
   "metadata": {
    "ExecuteTime": {
     "end_time": "2024-03-20T15:13:20.455229Z",
     "start_time": "2024-03-20T15:13:20.449129Z"
    }
   },
   "outputs": [],
   "source": [
    "# 初始化一个空的数据框，用于存储 Mann-Whitney U 检验的结果\n",
    "result_df = pd.DataFrame(columns=['Column', 'P-Value'])"
   ]
  },
  {
   "cell_type": "code",
   "execution_count": 5,
   "id": "e445ab44",
   "metadata": {
    "ExecuteTime": {
     "end_time": "2024-03-20T15:13:22.416557Z",
     "start_time": "2024-03-20T15:13:20.457349Z"
    }
   },
   "outputs": [],
   "source": [
    "for col in columns[1:-1]: #遍历columns列,注意要去掉SEQUENCE\n",
    "    # 根据 \"LABEL\" 划分数据为两类\n",
    "    group1 = df[df[\"LABEL\"] == 0][col]\n",
    "    group2 = df[df[\"LABEL\"] == 1][col]\n",
    "    \n",
    "    # 进行 Mann-Whitney U 检验\n",
    "    stat, p_value = mannwhitneyu(group1, group2)\n",
    "    \n",
    "    # 如果 p 值大于0.05，则 添加到结果数据框\n",
    "    if p_value > 0.05:\n",
    "        result_df = pd.concat([result_df, pd.DataFrame({'Column': [col], 'P-Value': [p_value]})], ignore_index=True)\n"
   ]
  },
  {
   "cell_type": "code",
   "execution_count": 6,
   "id": "788d0e32",
   "metadata": {
    "ExecuteTime": {
     "end_time": "2024-03-20T15:13:22.421556Z",
     "start_time": "2024-03-20T15:13:22.417598Z"
    }
   },
   "outputs": [
    {
     "data": {
      "text/plain": [
       "<function print(*args, sep=' ', end='\\n', file=None, flush=False)>"
      ]
     },
     "execution_count": 6,
     "metadata": {},
     "output_type": "execute_result"
    }
   ],
   "source": [
    "print"
   ]
  },
  {
   "cell_type": "code",
   "execution_count": 7,
   "id": "2568f91a",
   "metadata": {
    "ExecuteTime": {
     "end_time": "2024-03-20T15:13:22.431555Z",
     "start_time": "2024-03-20T15:13:22.424062Z"
    }
   },
   "outputs": [
    {
     "name": "stdout",
     "output_type": "stream",
     "text": [
      "                         Column   P-Value\n",
      "0                             G  0.576609\n",
      "1                             H  0.968590\n",
      "2                             L  0.878973\n",
      "3                            AC  0.154514\n",
      "4                            AH  0.391598\n",
      "..                          ...       ...\n",
      "178  _SolventAccessibilityD2001  0.344126\n",
      "179  _SolventAccessibilityD2075  0.805863\n",
      "180  _SolventAccessibilityD3001  0.277746\n",
      "181  _SolventAccessibilityD3025  0.750135\n",
      "182        _PolarizabilityD1001  0.700194\n",
      "\n",
      "[183 rows x 2 columns]\n"
     ]
    }
   ],
   "source": [
    "# 打印保留的结果\n",
    "print(result_df)"
   ]
  },
  {
   "cell_type": "code",
   "execution_count": 8,
   "id": "58402254",
   "metadata": {
    "ExecuteTime": {
     "end_time": "2024-03-20T15:13:22.443456Z",
     "start_time": "2024-03-20T15:13:22.433982Z"
    }
   },
   "outputs": [],
   "source": [
    "# 保存结果到 CSV 文件\n",
    "result_df.to_csv(\"C:/Users/Lenovo/Desktop/new_study/CNS/result/MNUtest.csv\", index=False)"
   ]
  },
  {
   "cell_type": "code",
   "execution_count": 11,
   "id": "7952a8e5",
   "metadata": {
    "ExecuteTime": {
     "end_time": "2024-03-20T15:32:13.555521Z",
     "start_time": "2024-03-20T15:32:13.371347Z"
    }
   },
   "outputs": [
    {
     "name": "stdout",
     "output_type": "stream",
     "text": [
      "                                  SEQUENCE       A       R       N       D  \\\n",
      "0                              IKQLLHFFQRF   0.000   9.091   0.000   0.000   \n",
      "1                     RLLRRLLRRLLRRLLRRLLR   0.000  50.000   0.000   0.000   \n",
      "2                  GIGKFLHSAKKFGKAFVGEIMNS   8.696   0.000   4.348   0.000   \n",
      "3                              LKRFLKWFKRF   0.000  18.182   0.000   0.000   \n",
      "4                              KLFKRWKHLFR   0.000  18.182   0.000   0.000   \n",
      "...                                    ...     ...     ...     ...     ...   \n",
      "1195         AVEFLLDQSIADSPLAKKVEFLESKGLTQ  10.345   0.000   0.000   6.897   \n",
      "1196           GQTSISKGLNYLTIMAPGNLWHMRNNF   3.704   3.704  14.815   0.000   \n",
      "1197    WGYSKHNGPENWHKDFPIANGDRQSPVDIDTATA   8.824   2.941   8.824  11.765   \n",
      "1198        IELFNAFPSLLRHFPGSHNTIFKNMTEQRK   3.333   6.667  10.000   0.000   \n",
      "1199  RLGLLLSVLAATLAQAPAPDVPGCSRGSCYPATGDL  16.667   5.556   0.000   5.556   \n",
      "\n",
      "          C       E       Q      I       K  ...  _PolarizabilityD2050  \\\n",
      "0     0.000   0.000  18.182  9.091   9.091  ...                27.273   \n",
      "1     0.000   0.000   0.000  0.000   0.000  ...                50.000   \n",
      "2     0.000   4.348   0.000  8.696  17.391  ...                73.913   \n",
      "3     0.000   0.000   0.000  0.000  27.273  ...                 9.091   \n",
      "4     0.000   0.000   0.000  0.000  27.273  ...                18.182   \n",
      "...     ...     ...     ...    ...     ...  ...                   ...   \n",
      "1195  0.000  10.345   6.897  3.448  10.345  ...                48.276   \n",
      "1196  0.000   0.000   3.704  7.407   3.704  ...                44.444   \n",
      "1197  0.000   2.941   2.941  5.882   5.882  ...                50.000   \n",
      "1198  0.000   6.667   3.333  6.667   6.667  ...                33.333   \n",
      "1199  5.556   0.000   2.778  0.000   0.000  ...                41.667   \n",
      "\n",
      "      _PolarizabilityD2075  _PolarizabilityD2100  _PolarizabilityD3001  \\\n",
      "0                   36.364                81.818                18.182   \n",
      "1                   70.000                95.000                 5.000   \n",
      "2                   82.609                95.652                17.391   \n",
      "3                    9.091                45.455                18.182   \n",
      "4                   18.182                81.818                 9.091   \n",
      "...                    ...                   ...                   ...   \n",
      "1195                68.966               100.000                13.793   \n",
      "1196                70.370                96.296                25.926   \n",
      "1197                70.588                85.294                 2.941   \n",
      "1198                63.333                93.333                13.333   \n",
      "1199                61.111               100.000                 2.778   \n",
      "\n",
      "      _PolarizabilityD3025  _PolarizabilityD3050  _PolarizabilityD3075  \\\n",
      "0                   18.182                63.636                72.727   \n",
      "1                   20.000                45.000                65.000   \n",
      "2                   21.739                43.478                52.174   \n",
      "3                   27.273                54.545                72.727   \n",
      "4                   27.273                45.455                63.636   \n",
      "...                    ...                   ...                   ...   \n",
      "1195                13.793                58.621                62.069   \n",
      "1196                40.741                77.778                85.185   \n",
      "1197                 8.824                17.647                38.235   \n",
      "1198                23.333                46.667                76.667   \n",
      "1199                83.333                 2.778                72.222   \n",
      "\n",
      "      _PolarizabilityD3100      MIC  LABEL  \n",
      "0                  100.000    24.00      1  \n",
      "1                  100.000    32.00      1  \n",
      "2                   91.304   128.00      1  \n",
      "3                  100.000     8.00      1  \n",
      "4                  100.000    31.25      1  \n",
      "...                    ...      ...    ...  \n",
      "1195                86.207  8192.00      0  \n",
      "1196               100.000  8192.00      0  \n",
      "1197                67.647  8192.00      0  \n",
      "1198               100.000  8192.00      0  \n",
      "1199                83.333  8192.00      0  \n",
      "\n",
      "[1200 rows x 396 columns]\n"
     ]
    }
   ],
   "source": [
    "# 根据 result_df 中的内容剔除相应列\n",
    "columns_to_drop = result_df['Column']\n",
    "df_filtered = df.drop(columns=columns_to_drop)\n",
    "\n",
    "# 保存剔除后的 DataFrame 到新的 CSV 文件\n",
    "df_filtered.to_csv(\"C:/Users/Lenovo/Desktop/new_study/CNS/result/ASP_filtering.csv\", index=False)\n",
    "\n",
    "# 打印剔除后的 DataFrame\n",
    "print(df_filtered)"
   ]
  }
 ],
 "metadata": {
  "kernelspec": {
   "display_name": "Python 3 (ipykernel)",
   "language": "python",
   "name": "python3"
  },
  "language_info": {
   "codemirror_mode": {
    "name": "ipython",
    "version": 3
   },
   "file_extension": ".py",
   "mimetype": "text/x-python",
   "name": "python",
   "nbconvert_exporter": "python",
   "pygments_lexer": "ipython3",
   "version": "3.11.5"
  },
  "toc": {
   "base_numbering": 1,
   "nav_menu": {},
   "number_sections": true,
   "sideBar": true,
   "skip_h1_title": false,
   "title_cell": "Table of Contents",
   "title_sidebar": "Contents",
   "toc_cell": false,
   "toc_position": {},
   "toc_section_display": true,
   "toc_window_display": false
  },
  "varInspector": {
   "cols": {
    "lenName": 16,
    "lenType": 16,
    "lenVar": 40
   },
   "kernels_config": {
    "python": {
     "delete_cmd_postfix": "",
     "delete_cmd_prefix": "del ",
     "library": "var_list.py",
     "varRefreshCmd": "print(var_dic_list())"
    },
    "r": {
     "delete_cmd_postfix": ") ",
     "delete_cmd_prefix": "rm(",
     "library": "var_list.r",
     "varRefreshCmd": "cat(var_dic_list()) "
    }
   },
   "types_to_exclude": [
    "module",
    "function",
    "builtin_function_or_method",
    "instance",
    "_Feature"
   ],
   "window_display": false
  }
 },
 "nbformat": 4,
 "nbformat_minor": 5
}
